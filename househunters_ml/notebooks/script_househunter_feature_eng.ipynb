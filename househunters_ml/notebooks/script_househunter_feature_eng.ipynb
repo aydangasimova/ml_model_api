{
 "cells": [
  {
   "cell_type": "markdown",
   "metadata": {},
   "source": [
    "# Assignments: Househunters"
   ]
  },
  {
   "cell_type": "markdown",
   "metadata": {},
   "source": [
    "**Introduction**\n",
    "\n",
    "HouseHunters is a website advertising houses. Currently, several real estate agencies offer the houses that are sold through their office. In the future, HouseHunters wants to be a platform for private sellers as well. As the asking price generally is different from the value of a house, HouseHunters wants to give private sellers an indication of the asking price of their house according to asked prices of sold houses in the past. Sellers can take this into account when deciding on their selling price.\n",
    "\n",
    "**Assignments**\n",
    "\n",
    "HouseHunters wants to accurately predict housing prices and be able to understand which characteristics drive the price of a house. In order to do this you will use different modeling techniques. After each theoretical part about a modeling technique, you will apply this technique on the househunters data. The first of the script is about loading data, exploring the data etc. Go through this part quickly to understand what is happening. You might have to change the directory from which the data is looaded, or change the file filename. The assignments start from the header 'Assignment 1: Linear Regression'. \n",
    "\n",
    "Part of the code where you have to fill in something are marked with three dots ..."
   ]
  },
  {
   "cell_type": "markdown",
   "metadata": {},
   "source": [
    "## Install packages and load data"
   ]
  },
  {
   "cell_type": "code",
   "execution_count": 340,
   "metadata": {},
   "outputs": [],
   "source": [
    "# a) Install packages\n",
    "\n",
    "import warnings\n",
    "warnings.simplefilter(action='ignore', category=FutureWarning)\n",
    "\n",
    "import pandas as pd       # 'as' := we abbreviate the package for common use\n",
    "pd.options.mode.chained_assignment = None\n",
    "import numpy as np\n",
    "import seaborn as sns\n",
    "import random\n",
    "import os\n",
    "import math\n",
    "import matplotlib.pyplot as plt \n",
    "import datetime\n",
    "import itertools\n",
    "\n",
    "from sklearn.model_selection import train_test_split\n",
    "from sklearn.linear_model import LinearRegression\n",
    "from sklearn.metrics import r2_score, mean_squared_error, mean_absolute_error\n",
    "import statsmodels.api as sm\n",
    "import xgboost as xgb\n",
    "\n",
    "from sklearn.linear_model import LogisticRegression #Logistic regression\n",
    "from sklearn.metrics import confusion_matrix \n",
    "from sklearn.metrics import accuracy_score \n",
    "from sklearn import metrics #ROC curve"
   ]
  },
  {
   "cell_type": "code",
   "execution_count": 341,
   "metadata": {},
   "outputs": [],
   "source": [
    "# Define function for the MAPE\n",
    "\n",
    "def mean_absolute_percentage_error(y_true, y_pred):\n",
    "    return np.mean(np.abs((y_true-y_pred)/y_true))*100"
   ]
  },
  {
   "cell_type": "code",
   "execution_count": 342,
   "metadata": {},
   "outputs": [
    {
     "name": "stdout",
     "output_type": "stream",
     "text": [
      "<class 'pandas.core.frame.DataFrame'>\n",
      "RangeIndex: 3667 entries, 0 to 3666\n",
      "Data columns (total 30 columns):\n",
      " #   Column                                     Non-Null Count  Dtype  \n",
      "---  ------                                     --------------  -----  \n",
      " 0   ID                                         3667 non-null   int64  \n",
      " 1   Price                                      3667 non-null   int64  \n",
      " 2   Province                                   3667 non-null   object \n",
      " 3   HouseType                                  3667 non-null   object \n",
      " 4   ConstructionYear                           3667 non-null   int64  \n",
      " 5   CapacityHouse_m3                           3667 non-null   float64\n",
      " 6   LivingArea_m2                              3667 non-null   float64\n",
      " 7   ResidentialNeighborhood                    3667 non-null   int64  \n",
      " 8   QuietRoad                                  3667 non-null   int64  \n",
      " 9   Garden                                     2716 non-null   float64\n",
      " 10  FirePlace                                  3667 non-null   int64  \n",
      " 11  Balcony                                    3667 non-null   int64  \n",
      " 12  Attic                                      3667 non-null   int64  \n",
      " 13  Back                                       3667 non-null   int64  \n",
      " 14  #Bedrooms                                  3667 non-null   int64  \n",
      " 15  StatusRank                                 3667 non-null   int64  \n",
      " 16  StatusScore                                3667 non-null   float64\n",
      " 17  Urbanity_class                             3667 non-null   int64  \n",
      " 18  Avg_house_value_WOZ_1000euros              3667 non-null   int64  \n",
      " 19  Num_benefit_total                          3667 non-null   int64  \n",
      " 20  Num_WWB                                    3667 non-null   int64  \n",
      " 21  Num_AO                                     3667 non-null   int64  \n",
      " 22  Num_WW                                     3667 non-null   int64  \n",
      " 23  Num_AOW                                    3667 non-null   int64  \n",
      " 24  Municipality_Distance_hospital_km          3667 non-null   float64\n",
      " 25  Municipality_Distance_childDaycare_km      3667 non-null   float64\n",
      " 26  Municipality_Distance_largeSupermarket_km  3667 non-null   float64\n",
      " 27  Municipality_Distance_trainstation_km      3667 non-null   float64\n",
      " 28  Avg_WOZ_m2                                 3667 non-null   float64\n",
      " 29  Garden_validation                          3667 non-null   int64  \n",
      "dtypes: float64(9), int64(19), object(2)\n",
      "memory usage: 859.6+ KB\n"
     ]
    }
   ],
   "source": [
    "# b) Load data\n",
    "\n",
    "# change directory if necessary\n",
    "# inputdata = pd.read_csv(\"190322 - HouseTable_vDef_excel.csv\", delimiter=',')\n",
    "inputdata = pd.read_csv(\"../data/190322 - HouseTable_vDef_excel.csv\", delimiter=';', decimal = ',', thousands = '.')\n",
    "\n",
    "\n",
    "#    Get an overview of the data\n",
    "inputdata.head(10)\n",
    "inputdata.info()"
   ]
  },
  {
   "cell_type": "code",
   "execution_count": 345,
   "metadata": {},
   "outputs": [
    {
     "name": "stdout",
     "output_type": "stream",
     "text": [
      "<class 'pandas.core.frame.DataFrame'>\n",
      "RangeIndex: 3667 entries, 0 to 3666\n",
      "Data columns (total 30 columns):\n",
      " #   Column                                     Non-Null Count  Dtype  \n",
      "---  ------                                     --------------  -----  \n",
      " 0   ID                                         3667 non-null   int64  \n",
      " 1   Price                                      3667 non-null   int64  \n",
      " 2   Province                                   3667 non-null   object \n",
      " 3   HouseType                                  3667 non-null   object \n",
      " 4   ConstructionYear                           3667 non-null   int64  \n",
      " 5   CapacityHouse_m3                           3667 non-null   float64\n",
      " 6   LivingArea_m2                              3667 non-null   float64\n",
      " 7   ResidentialNeighborhood                    3667 non-null   int64  \n",
      " 8   QuietRoad                                  3667 non-null   int64  \n",
      " 9   Garden                                     2716 non-null   float64\n",
      " 10  FirePlace                                  3667 non-null   int64  \n",
      " 11  Balcony                                    3667 non-null   int64  \n",
      " 12  Attic                                      3667 non-null   int64  \n",
      " 13  Back                                       3667 non-null   int64  \n",
      " 14  Num_Bedrooms                               3667 non-null   int64  \n",
      " 15  StatusRank                                 3667 non-null   int64  \n",
      " 16  StatusScore                                3667 non-null   float64\n",
      " 17  Urbanity_class                             3667 non-null   int64  \n",
      " 18  Avg_house_value_WOZ_1000euros              3667 non-null   int64  \n",
      " 19  Num_benefit_total                          3667 non-null   int64  \n",
      " 20  Num_WWB                                    3667 non-null   int64  \n",
      " 21  Num_AO                                     3667 non-null   int64  \n",
      " 22  Num_WW                                     3667 non-null   int64  \n",
      " 23  Num_AOW                                    3667 non-null   int64  \n",
      " 24  Municipality_Distance_hospital_km          3667 non-null   float64\n",
      " 25  Municipality_Distance_childDaycare_km      3667 non-null   float64\n",
      " 26  Municipality_Distance_largeSupermarket_km  3667 non-null   float64\n",
      " 27  Municipality_Distance_trainstation_km      3667 non-null   float64\n",
      " 28  Avg_WOZ_m2                                 3667 non-null   float64\n",
      " 29  Garden_validation                          3667 non-null   int64  \n",
      "dtypes: float64(9), int64(19), object(2)\n",
      "memory usage: 859.6+ KB\n"
     ]
    }
   ],
   "source": [
    "inputdata = inputdata.rename(columns={\"#Bedrooms\": \"Num_Bedrooms\"})\n",
    "inputdata.info()"
   ]
  },
  {
   "cell_type": "markdown",
   "metadata": {},
   "source": [
    "## Data exploration"
   ]
  },
  {
   "cell_type": "markdown",
   "metadata": {},
   "source": [
    "#### Variable exploration"
   ]
  },
  {
   "cell_type": "code",
   "execution_count": 346,
   "metadata": {
    "scrolled": true
   },
   "outputs": [
    {
     "name": "stdout",
     "output_type": "stream",
     "text": [
      "(nrow, ncol): (3667, 30)\n"
     ]
    },
    {
     "data": {
      "text/html": [
       "<div>\n",
       "<style scoped>\n",
       "    .dataframe tbody tr th:only-of-type {\n",
       "        vertical-align: middle;\n",
       "    }\n",
       "\n",
       "    .dataframe tbody tr th {\n",
       "        vertical-align: top;\n",
       "    }\n",
       "\n",
       "    .dataframe thead th {\n",
       "        text-align: right;\n",
       "    }\n",
       "</style>\n",
       "<table border=\"1\" class=\"dataframe\">\n",
       "  <thead>\n",
       "    <tr style=\"text-align: right;\">\n",
       "      <th></th>\n",
       "      <th>ID</th>\n",
       "      <th>Price</th>\n",
       "      <th>ConstructionYear</th>\n",
       "      <th>CapacityHouse_m3</th>\n",
       "      <th>LivingArea_m2</th>\n",
       "      <th>ResidentialNeighborhood</th>\n",
       "      <th>QuietRoad</th>\n",
       "      <th>Garden</th>\n",
       "      <th>FirePlace</th>\n",
       "      <th>Balcony</th>\n",
       "      <th>...</th>\n",
       "      <th>Num_WWB</th>\n",
       "      <th>Num_AO</th>\n",
       "      <th>Num_WW</th>\n",
       "      <th>Num_AOW</th>\n",
       "      <th>Municipality_Distance_hospital_km</th>\n",
       "      <th>Municipality_Distance_childDaycare_km</th>\n",
       "      <th>Municipality_Distance_largeSupermarket_km</th>\n",
       "      <th>Municipality_Distance_trainstation_km</th>\n",
       "      <th>Avg_WOZ_m2</th>\n",
       "      <th>Garden_validation</th>\n",
       "    </tr>\n",
       "  </thead>\n",
       "  <tbody>\n",
       "    <tr>\n",
       "      <th>count</th>\n",
       "      <td>3.667000e+03</td>\n",
       "      <td>3.667000e+03</td>\n",
       "      <td>3667.000000</td>\n",
       "      <td>3667.000000</td>\n",
       "      <td>3667.000000</td>\n",
       "      <td>3667.000000</td>\n",
       "      <td>3667.000000</td>\n",
       "      <td>2716.000000</td>\n",
       "      <td>3667.000000</td>\n",
       "      <td>3667.000000</td>\n",
       "      <td>...</td>\n",
       "      <td>3667.000000</td>\n",
       "      <td>3667.000000</td>\n",
       "      <td>3667.000000</td>\n",
       "      <td>3667.000000</td>\n",
       "      <td>3667.000000</td>\n",
       "      <td>3667.000000</td>\n",
       "      <td>3667.000000</td>\n",
       "      <td>3667.000000</td>\n",
       "      <td>3667.000000</td>\n",
       "      <td>3667.000000</td>\n",
       "    </tr>\n",
       "    <tr>\n",
       "      <th>mean</th>\n",
       "      <td>2.683852e+06</td>\n",
       "      <td>3.355942e+05</td>\n",
       "      <td>1968.374966</td>\n",
       "      <td>475.626872</td>\n",
       "      <td>132.150935</td>\n",
       "      <td>0.209163</td>\n",
       "      <td>0.186528</td>\n",
       "      <td>0.663476</td>\n",
       "      <td>0.035724</td>\n",
       "      <td>0.136079</td>\n",
       "      <td>...</td>\n",
       "      <td>238.581947</td>\n",
       "      <td>357.837469</td>\n",
       "      <td>210.452686</td>\n",
       "      <td>1327.043905</td>\n",
       "      <td>7.835042</td>\n",
       "      <td>0.824407</td>\n",
       "      <td>0.944151</td>\n",
       "      <td>6.586474</td>\n",
       "      <td>1803.535485</td>\n",
       "      <td>0.647668</td>\n",
       "    </tr>\n",
       "    <tr>\n",
       "      <th>std</th>\n",
       "      <td>1.058421e+04</td>\n",
       "      <td>1.633092e+05</td>\n",
       "      <td>35.014865</td>\n",
       "      <td>264.924015</td>\n",
       "      <td>58.871407</td>\n",
       "      <td>0.406766</td>\n",
       "      <td>0.389586</td>\n",
       "      <td>0.472608</td>\n",
       "      <td>0.185627</td>\n",
       "      <td>0.342919</td>\n",
       "      <td>...</td>\n",
       "      <td>288.817701</td>\n",
       "      <td>231.142913</td>\n",
       "      <td>132.369864</td>\n",
       "      <td>813.035900</td>\n",
       "      <td>6.200927</td>\n",
       "      <td>0.443916</td>\n",
       "      <td>0.369759</td>\n",
       "      <td>9.093516</td>\n",
       "      <td>529.434670</td>\n",
       "      <td>0.477762</td>\n",
       "    </tr>\n",
       "    <tr>\n",
       "      <th>min</th>\n",
       "      <td>2.250795e+06</td>\n",
       "      <td>-1.750700e+04</td>\n",
       "      <td>1816.000000</td>\n",
       "      <td>68.000000</td>\n",
       "      <td>23.000000</td>\n",
       "      <td>0.000000</td>\n",
       "      <td>0.000000</td>\n",
       "      <td>0.000000</td>\n",
       "      <td>0.000000</td>\n",
       "      <td>0.000000</td>\n",
       "      <td>...</td>\n",
       "      <td>0.000000</td>\n",
       "      <td>0.000000</td>\n",
       "      <td>0.000000</td>\n",
       "      <td>0.000000</td>\n",
       "      <td>1.500000</td>\n",
       "      <td>0.400000</td>\n",
       "      <td>0.500000</td>\n",
       "      <td>1.000000</td>\n",
       "      <td>800.000000</td>\n",
       "      <td>0.000000</td>\n",
       "    </tr>\n",
       "    <tr>\n",
       "      <th>25%</th>\n",
       "      <td>2.681245e+06</td>\n",
       "      <td>2.212085e+05</td>\n",
       "      <td>1955.000000</td>\n",
       "      <td>322.000000</td>\n",
       "      <td>96.300000</td>\n",
       "      <td>0.000000</td>\n",
       "      <td>0.000000</td>\n",
       "      <td>0.000000</td>\n",
       "      <td>0.000000</td>\n",
       "      <td>0.000000</td>\n",
       "      <td>...</td>\n",
       "      <td>60.000000</td>\n",
       "      <td>180.000000</td>\n",
       "      <td>110.000000</td>\n",
       "      <td>670.000000</td>\n",
       "      <td>3.300000</td>\n",
       "      <td>0.500000</td>\n",
       "      <td>0.700000</td>\n",
       "      <td>2.400000</td>\n",
       "      <td>1500.000000</td>\n",
       "      <td>0.000000</td>\n",
       "    </tr>\n",
       "    <tr>\n",
       "      <th>50%</th>\n",
       "      <td>2.684540e+06</td>\n",
       "      <td>3.006830e+05</td>\n",
       "      <td>1975.000000</td>\n",
       "      <td>406.000000</td>\n",
       "      <td>120.000000</td>\n",
       "      <td>0.000000</td>\n",
       "      <td>0.000000</td>\n",
       "      <td>1.000000</td>\n",
       "      <td>0.000000</td>\n",
       "      <td>0.000000</td>\n",
       "      <td>...</td>\n",
       "      <td>150.000000</td>\n",
       "      <td>330.000000</td>\n",
       "      <td>200.000000</td>\n",
       "      <td>1260.000000</td>\n",
       "      <td>5.700000</td>\n",
       "      <td>0.700000</td>\n",
       "      <td>0.900000</td>\n",
       "      <td>3.000000</td>\n",
       "      <td>1700.000000</td>\n",
       "      <td>1.000000</td>\n",
       "    </tr>\n",
       "    <tr>\n",
       "      <th>75%</th>\n",
       "      <td>2.687806e+06</td>\n",
       "      <td>4.113925e+05</td>\n",
       "      <td>1994.500000</td>\n",
       "      <td>544.000000</td>\n",
       "      <td>150.000000</td>\n",
       "      <td>0.000000</td>\n",
       "      <td>0.000000</td>\n",
       "      <td>1.000000</td>\n",
       "      <td>0.000000</td>\n",
       "      <td>0.000000</td>\n",
       "      <td>...</td>\n",
       "      <td>300.000000</td>\n",
       "      <td>500.000000</td>\n",
       "      <td>290.000000</td>\n",
       "      <td>1870.000000</td>\n",
       "      <td>11.400000</td>\n",
       "      <td>1.000000</td>\n",
       "      <td>1.100000</td>\n",
       "      <td>7.300000</td>\n",
       "      <td>2000.000000</td>\n",
       "      <td>1.000000</td>\n",
       "    </tr>\n",
       "    <tr>\n",
       "      <th>max</th>\n",
       "      <td>2.693785e+06</td>\n",
       "      <td>1.594992e+06</td>\n",
       "      <td>2019.000000</td>\n",
       "      <td>1653.900000</td>\n",
       "      <td>384.030000</td>\n",
       "      <td>1.000000</td>\n",
       "      <td>1.000000</td>\n",
       "      <td>1.000000</td>\n",
       "      <td>1.000000</td>\n",
       "      <td>1.000000</td>\n",
       "      <td>...</td>\n",
       "      <td>2720.000000</td>\n",
       "      <td>1510.000000</td>\n",
       "      <td>900.000000</td>\n",
       "      <td>5160.000000</td>\n",
       "      <td>63.700000</td>\n",
       "      <td>6.300000</td>\n",
       "      <td>2.600000</td>\n",
       "      <td>50.700000</td>\n",
       "      <td>5350.000000</td>\n",
       "      <td>1.000000</td>\n",
       "    </tr>\n",
       "  </tbody>\n",
       "</table>\n",
       "<p>8 rows × 28 columns</p>\n",
       "</div>"
      ],
      "text/plain": [
       "                 ID         Price  ConstructionYear  CapacityHouse_m3  \\\n",
       "count  3.667000e+03  3.667000e+03       3667.000000       3667.000000   \n",
       "mean   2.683852e+06  3.355942e+05       1968.374966        475.626872   \n",
       "std    1.058421e+04  1.633092e+05         35.014865        264.924015   \n",
       "min    2.250795e+06 -1.750700e+04       1816.000000         68.000000   \n",
       "25%    2.681245e+06  2.212085e+05       1955.000000        322.000000   \n",
       "50%    2.684540e+06  3.006830e+05       1975.000000        406.000000   \n",
       "75%    2.687806e+06  4.113925e+05       1994.500000        544.000000   \n",
       "max    2.693785e+06  1.594992e+06       2019.000000       1653.900000   \n",
       "\n",
       "       LivingArea_m2  ResidentialNeighborhood    QuietRoad       Garden  \\\n",
       "count    3667.000000              3667.000000  3667.000000  2716.000000   \n",
       "mean      132.150935                 0.209163     0.186528     0.663476   \n",
       "std        58.871407                 0.406766     0.389586     0.472608   \n",
       "min        23.000000                 0.000000     0.000000     0.000000   \n",
       "25%        96.300000                 0.000000     0.000000     0.000000   \n",
       "50%       120.000000                 0.000000     0.000000     1.000000   \n",
       "75%       150.000000                 0.000000     0.000000     1.000000   \n",
       "max       384.030000                 1.000000     1.000000     1.000000   \n",
       "\n",
       "         FirePlace      Balcony  ...      Num_WWB       Num_AO       Num_WW  \\\n",
       "count  3667.000000  3667.000000  ...  3667.000000  3667.000000  3667.000000   \n",
       "mean      0.035724     0.136079  ...   238.581947   357.837469   210.452686   \n",
       "std       0.185627     0.342919  ...   288.817701   231.142913   132.369864   \n",
       "min       0.000000     0.000000  ...     0.000000     0.000000     0.000000   \n",
       "25%       0.000000     0.000000  ...    60.000000   180.000000   110.000000   \n",
       "50%       0.000000     0.000000  ...   150.000000   330.000000   200.000000   \n",
       "75%       0.000000     0.000000  ...   300.000000   500.000000   290.000000   \n",
       "max       1.000000     1.000000  ...  2720.000000  1510.000000   900.000000   \n",
       "\n",
       "           Num_AOW  Municipality_Distance_hospital_km  \\\n",
       "count  3667.000000                        3667.000000   \n",
       "mean   1327.043905                           7.835042   \n",
       "std     813.035900                           6.200927   \n",
       "min       0.000000                           1.500000   \n",
       "25%     670.000000                           3.300000   \n",
       "50%    1260.000000                           5.700000   \n",
       "75%    1870.000000                          11.400000   \n",
       "max    5160.000000                          63.700000   \n",
       "\n",
       "       Municipality_Distance_childDaycare_km  \\\n",
       "count                            3667.000000   \n",
       "mean                                0.824407   \n",
       "std                                 0.443916   \n",
       "min                                 0.400000   \n",
       "25%                                 0.500000   \n",
       "50%                                 0.700000   \n",
       "75%                                 1.000000   \n",
       "max                                 6.300000   \n",
       "\n",
       "       Municipality_Distance_largeSupermarket_km  \\\n",
       "count                                3667.000000   \n",
       "mean                                    0.944151   \n",
       "std                                     0.369759   \n",
       "min                                     0.500000   \n",
       "25%                                     0.700000   \n",
       "50%                                     0.900000   \n",
       "75%                                     1.100000   \n",
       "max                                     2.600000   \n",
       "\n",
       "       Municipality_Distance_trainstation_km   Avg_WOZ_m2  Garden_validation  \n",
       "count                            3667.000000  3667.000000        3667.000000  \n",
       "mean                                6.586474  1803.535485           0.647668  \n",
       "std                                 9.093516   529.434670           0.477762  \n",
       "min                                 1.000000   800.000000           0.000000  \n",
       "25%                                 2.400000  1500.000000           0.000000  \n",
       "50%                                 3.000000  1700.000000           1.000000  \n",
       "75%                                 7.300000  2000.000000           1.000000  \n",
       "max                                50.700000  5350.000000           1.000000  \n",
       "\n",
       "[8 rows x 28 columns]"
      ]
     },
     "execution_count": 346,
     "metadata": {},
     "output_type": "execute_result"
    }
   ],
   "source": [
    "# a) Get an overview of the data\n",
    "#    Get the number of rows and columns\n",
    "print('(nrow, ncol):', inputdata.shape)     \n",
    "\n",
    "#    Show a brief summary of the numeric variables\n",
    "inputdata.describe()                        # min/max, count, mean, std and percentiles"
   ]
  },
  {
   "cell_type": "code",
   "execution_count": 347,
   "metadata": {
    "scrolled": true
   },
   "outputs": [
    {
     "name": "stdout",
     "output_type": "stream",
     "text": [
      "                                          Datatype\n",
      "ID                                           int64\n",
      "Price                                        int64\n",
      "Province                                    object\n",
      "HouseType                                   object\n",
      "ConstructionYear                             int64\n",
      "CapacityHouse_m3                           float64\n",
      "LivingArea_m2                              float64\n",
      "ResidentialNeighborhood                      int64\n",
      "QuietRoad                                    int64\n",
      "Garden                                     float64\n",
      "FirePlace                                    int64\n",
      "Balcony                                      int64\n",
      "Attic                                        int64\n",
      "Back                                         int64\n",
      "Num_Bedrooms                                 int64\n",
      "StatusRank                                   int64\n",
      "StatusScore                                float64\n",
      "Urbanity_class                               int64\n",
      "Avg_house_value_WOZ_1000euros                int64\n",
      "Num_benefit_total                            int64\n",
      "Num_WWB                                      int64\n",
      "Num_AO                                       int64\n",
      "Num_WW                                       int64\n",
      "Num_AOW                                      int64\n",
      "Municipality_Distance_hospital_km          float64\n",
      "Municipality_Distance_childDaycare_km      float64\n",
      "Municipality_Distance_largeSupermarket_km  float64\n",
      "Municipality_Distance_trainstation_km      float64\n",
      "Avg_WOZ_m2                                 float64\n",
      "Garden_validation                            int64\n"
     ]
    }
   ],
   "source": [
    "# b) Check data type of each variable\n",
    "print(pd.DataFrame(inputdata.dtypes, columns=['Datatype']))"
   ]
  },
  {
   "cell_type": "code",
   "execution_count": 348,
   "metadata": {
    "scrolled": true
   },
   "outputs": [
    {
     "name": "stdout",
     "output_type": "stream",
     "text": [
      "                                           # NULLS  % NULLS\n",
      "ID                                               0  0.00000\n",
      "Price                                            0  0.00000\n",
      "Province                                         0  0.00000\n",
      "HouseType                                        0  0.00000\n",
      "ConstructionYear                                 0  0.00000\n",
      "CapacityHouse_m3                                 0  0.00000\n",
      "LivingArea_m2                                    0  0.00000\n",
      "ResidentialNeighborhood                          0  0.00000\n",
      "QuietRoad                                        0  0.00000\n",
      "Garden                                         951  0.25934\n",
      "FirePlace                                        0  0.00000\n",
      "Balcony                                          0  0.00000\n",
      "Attic                                            0  0.00000\n",
      "Back                                             0  0.00000\n",
      "Num_Bedrooms                                     0  0.00000\n",
      "StatusRank                                       0  0.00000\n",
      "StatusScore                                      0  0.00000\n",
      "Urbanity_class                                   0  0.00000\n",
      "Avg_house_value_WOZ_1000euros                    0  0.00000\n",
      "Num_benefit_total                                0  0.00000\n",
      "Num_WWB                                          0  0.00000\n",
      "Num_AO                                           0  0.00000\n",
      "Num_WW                                           0  0.00000\n",
      "Num_AOW                                          0  0.00000\n",
      "Municipality_Distance_hospital_km                0  0.00000\n",
      "Municipality_Distance_childDaycare_km            0  0.00000\n",
      "Municipality_Distance_largeSupermarket_km        0  0.00000\n",
      "Municipality_Distance_trainstation_km            0  0.00000\n",
      "Avg_WOZ_m2                                       0  0.00000\n",
      "Garden_validation                                0  0.00000\n"
     ]
    }
   ],
   "source": [
    "# c) Get an overview of the NULLS in the dataset\n",
    "nulls = pd.DataFrame(inputdata.isnull().sum(), columns=['# NULLS'])        # Number of NULLS \n",
    "\n",
    "lst={}                                                                     # Number of NULLS as a percentage\n",
    "for col in inputdata.columns:                                       \n",
    "    lst[col]=np.sum(inputdata.loc[:,col].isnull())/len(inputdata.loc[:,col])\n",
    "percNulls = pd.DataFrame(pd.Series(lst), columns=['% NULLS'])\n",
    "\n",
    "print(pd.concat([nulls, percNulls], axis=1))"
   ]
  },
  {
   "cell_type": "code",
   "execution_count": 349,
   "metadata": {
    "scrolled": false
   },
   "outputs": [
    {
     "data": {
      "text/plain": [
       "Text(0, 0.5, '#')"
      ]
     },
     "execution_count": 349,
     "metadata": {},
     "output_type": "execute_result"
    },
    {
     "data": {
      "image/png": "[encoded data removed]",
      "text/plain": [
       "<Figure size 1080x576 with 1 Axes>"
      ]
     },
     "metadata": {
      "needs_background": "light"
     },
     "output_type": "display_data"
    }
   ],
   "source": [
    "# d) Plot distribution of target variable\n",
    "target = 'Price'\n",
    "\n",
    "plt.figure(figsize=(15,8))\n",
    "plt.hist((inputdata[target]), bins=250, color = 'blue', edgecolor = 'blue')\n",
    "plt.title('Distribution of target variable')\n",
    "plt.xlabel(target)\n",
    "plt.ylabel('#')"
   ]
  },
  {
   "cell_type": "markdown",
   "metadata": {},
   "source": [
    "#### Explore relations with target variable 'Price'"
   ]
  },
  {
   "cell_type": "code",
   "execution_count": 350,
   "metadata": {
    "scrolled": true
   },
   "outputs": [
    {
     "ename": "KeyError",
     "evalue": "'#Bedrooms'",
     "output_type": "error",
     "traceback": [
      "\u001b[0;31m---------------------------------------------------------------------------\u001b[0m",
      "\u001b[0;31mKeyError\u001b[0m                                  Traceback (most recent call last)",
      "\u001b[0;32m/opt/anaconda3/envs/udacity3.8/lib/python3.8/site-packages/pandas/core/indexes/base.py\u001b[0m in \u001b[0;36mget_loc\u001b[0;34m(self, key, method, tolerance)\u001b[0m\n\u001b[1;32m   2645\u001b[0m             \u001b[0;32mtry\u001b[0m\u001b[0;34m:\u001b[0m\u001b[0;34m\u001b[0m\u001b[0;34m\u001b[0m\u001b[0m\n\u001b[0;32m-> 2646\u001b[0;31m                 \u001b[0;32mreturn\u001b[0m \u001b[0mself\u001b[0m\u001b[0;34m.\u001b[0m\u001b[0m_engine\u001b[0m\u001b[0;34m.\u001b[0m\u001b[0mget_loc\u001b[0m\u001b[0;34m(\u001b[0m\u001b[0mkey\u001b[0m\u001b[0;34m)\u001b[0m\u001b[0;34m\u001b[0m\u001b[0;34m\u001b[0m\u001b[0m\n\u001b[0m\u001b[1;32m   2647\u001b[0m             \u001b[0;32mexcept\u001b[0m \u001b[0mKeyError\u001b[0m\u001b[0;34m:\u001b[0m\u001b[0;34m\u001b[0m\u001b[0;34m\u001b[0m\u001b[0m\n",
      "\u001b[0;32mpandas/_libs/index.pyx\u001b[0m in \u001b[0;36mpandas._libs.index.IndexEngine.get_loc\u001b[0;34m()\u001b[0m\n",
      "\u001b[0;32mpandas/_libs/index.pyx\u001b[0m in \u001b[0;36mpandas._libs.index.IndexEngine.get_loc\u001b[0;34m()\u001b[0m\n",
      "\u001b[0;32mpandas/_libs/hashtable_class_helper.pxi\u001b[0m in \u001b[0;36mpandas._libs.hashtable.PyObjectHashTable.get_item\u001b[0;34m()\u001b[0m\n",
      "\u001b[0;32mpandas/_libs/hashtable_class_helper.pxi\u001b[0m in \u001b[0;36mpandas._libs.hashtable.PyObjectHashTable.get_item\u001b[0;34m()\u001b[0m\n",
      "\u001b[0;31mKeyError\u001b[0m: '#Bedrooms'",
      "\nDuring handling of the above exception, another exception occurred:\n",
      "\u001b[0;31mKeyError\u001b[0m                                  Traceback (most recent call last)",
      "\u001b[0;32m<ipython-input-350-de4183dbebaf>\u001b[0m in \u001b[0;36m<module>\u001b[0;34m\u001b[0m\n\u001b[1;32m     25\u001b[0m \u001b[0;32mfor\u001b[0m \u001b[0mi\u001b[0m\u001b[0;34m,\u001b[0m \u001b[0mcolumn\u001b[0m \u001b[0;32min\u001b[0m \u001b[0menumerate\u001b[0m\u001b[0;34m(\u001b[0m\u001b[0mnumericals\u001b[0m\u001b[0;34m)\u001b[0m\u001b[0;34m:\u001b[0m\u001b[0;34m\u001b[0m\u001b[0;34m\u001b[0m\u001b[0m\n\u001b[1;32m     26\u001b[0m     \u001b[0mplt\u001b[0m\u001b[0;34m.\u001b[0m\u001b[0msubplot\u001b[0m\u001b[0;34m(\u001b[0m\u001b[0mmath\u001b[0m\u001b[0;34m.\u001b[0m\u001b[0mceil\u001b[0m\u001b[0;34m(\u001b[0m\u001b[0mlen\u001b[0m\u001b[0;34m(\u001b[0m\u001b[0mnumericals\u001b[0m\u001b[0;34m)\u001b[0m\u001b[0;34m/\u001b[0m\u001b[0;36m2\u001b[0m\u001b[0;34m)\u001b[0m\u001b[0;34m,\u001b[0m \u001b[0;36m2\u001b[0m\u001b[0;34m,\u001b[0m \u001b[0mi\u001b[0m\u001b[0;34m+\u001b[0m\u001b[0;36m1\u001b[0m\u001b[0;34m)\u001b[0m\u001b[0;34m\u001b[0m\u001b[0;34m\u001b[0m\u001b[0m\n\u001b[0;32m---> 27\u001b[0;31m     \u001b[0mx\u001b[0m \u001b[0;34m=\u001b[0m \u001b[0minputdata\u001b[0m\u001b[0;34m[\u001b[0m\u001b[0mcolumn\u001b[0m\u001b[0;34m]\u001b[0m\u001b[0;34m\u001b[0m\u001b[0;34m\u001b[0m\u001b[0m\n\u001b[0m\u001b[1;32m     28\u001b[0m     \u001b[0my\u001b[0m \u001b[0;34m=\u001b[0m \u001b[0minputdata\u001b[0m\u001b[0;34m[\u001b[0m\u001b[0mtarget\u001b[0m\u001b[0;34m]\u001b[0m\u001b[0;34m\u001b[0m\u001b[0;34m\u001b[0m\u001b[0m\n\u001b[1;32m     29\u001b[0m     \u001b[0mplt\u001b[0m\u001b[0;34m.\u001b[0m\u001b[0mscatter\u001b[0m\u001b[0;34m(\u001b[0m\u001b[0mx\u001b[0m\u001b[0;34m,\u001b[0m \u001b[0my\u001b[0m\u001b[0;34m,\u001b[0m \u001b[0mmarker\u001b[0m\u001b[0;34m=\u001b[0m\u001b[0;34m'o'\u001b[0m\u001b[0;34m,\u001b[0m \u001b[0mcmap\u001b[0m\u001b[0;34m=\u001b[0m\u001b[0;34m'blue'\u001b[0m\u001b[0;34m)\u001b[0m\u001b[0;34m\u001b[0m\u001b[0;34m\u001b[0m\u001b[0m\n",
      "\u001b[0;32m/opt/anaconda3/envs/udacity3.8/lib/python3.8/site-packages/pandas/core/frame.py\u001b[0m in \u001b[0;36m__getitem__\u001b[0;34m(self, key)\u001b[0m\n\u001b[1;32m   2798\u001b[0m             \u001b[0;32mif\u001b[0m \u001b[0mself\u001b[0m\u001b[0;34m.\u001b[0m\u001b[0mcolumns\u001b[0m\u001b[0;34m.\u001b[0m\u001b[0mnlevels\u001b[0m \u001b[0;34m>\u001b[0m \u001b[0;36m1\u001b[0m\u001b[0;34m:\u001b[0m\u001b[0;34m\u001b[0m\u001b[0;34m\u001b[0m\u001b[0m\n\u001b[1;32m   2799\u001b[0m                 \u001b[0;32mreturn\u001b[0m \u001b[0mself\u001b[0m\u001b[0;34m.\u001b[0m\u001b[0m_getitem_multilevel\u001b[0m\u001b[0;34m(\u001b[0m\u001b[0mkey\u001b[0m\u001b[0;34m)\u001b[0m\u001b[0;34m\u001b[0m\u001b[0;34m\u001b[0m\u001b[0m\n\u001b[0;32m-> 2800\u001b[0;31m             \u001b[0mindexer\u001b[0m \u001b[0;34m=\u001b[0m \u001b[0mself\u001b[0m\u001b[0;34m.\u001b[0m\u001b[0mcolumns\u001b[0m\u001b[0;34m.\u001b[0m\u001b[0mget_loc\u001b[0m\u001b[0;34m(\u001b[0m\u001b[0mkey\u001b[0m\u001b[0;34m)\u001b[0m\u001b[0;34m\u001b[0m\u001b[0;34m\u001b[0m\u001b[0m\n\u001b[0m\u001b[1;32m   2801\u001b[0m             \u001b[0;32mif\u001b[0m \u001b[0mis_integer\u001b[0m\u001b[0;34m(\u001b[0m\u001b[0mindexer\u001b[0m\u001b[0;34m)\u001b[0m\u001b[0;34m:\u001b[0m\u001b[0;34m\u001b[0m\u001b[0;34m\u001b[0m\u001b[0m\n\u001b[1;32m   2802\u001b[0m                 \u001b[0mindexer\u001b[0m \u001b[0;34m=\u001b[0m \u001b[0;34m[\u001b[0m\u001b[0mindexer\u001b[0m\u001b[0;34m]\u001b[0m\u001b[0;34m\u001b[0m\u001b[0;34m\u001b[0m\u001b[0m\n",
      "\u001b[0;32m/opt/anaconda3/envs/udacity3.8/lib/python3.8/site-packages/pandas/core/indexes/base.py\u001b[0m in \u001b[0;36mget_loc\u001b[0;34m(self, key, method, tolerance)\u001b[0m\n\u001b[1;32m   2646\u001b[0m                 \u001b[0;32mreturn\u001b[0m \u001b[0mself\u001b[0m\u001b[0;34m.\u001b[0m\u001b[0m_engine\u001b[0m\u001b[0;34m.\u001b[0m\u001b[0mget_loc\u001b[0m\u001b[0;34m(\u001b[0m\u001b[0mkey\u001b[0m\u001b[0;34m)\u001b[0m\u001b[0;34m\u001b[0m\u001b[0;34m\u001b[0m\u001b[0m\n\u001b[1;32m   2647\u001b[0m             \u001b[0;32mexcept\u001b[0m \u001b[0mKeyError\u001b[0m\u001b[0;34m:\u001b[0m\u001b[0;34m\u001b[0m\u001b[0;34m\u001b[0m\u001b[0m\n\u001b[0;32m-> 2648\u001b[0;31m                 \u001b[0;32mreturn\u001b[0m \u001b[0mself\u001b[0m\u001b[0;34m.\u001b[0m\u001b[0m_engine\u001b[0m\u001b[0;34m.\u001b[0m\u001b[0mget_loc\u001b[0m\u001b[0;34m(\u001b[0m\u001b[0mself\u001b[0m\u001b[0;34m.\u001b[0m\u001b[0m_maybe_cast_indexer\u001b[0m\u001b[0;34m(\u001b[0m\u001b[0mkey\u001b[0m\u001b[0;34m)\u001b[0m\u001b[0;34m)\u001b[0m\u001b[0;34m\u001b[0m\u001b[0;34m\u001b[0m\u001b[0m\n\u001b[0m\u001b[1;32m   2649\u001b[0m         \u001b[0mindexer\u001b[0m \u001b[0;34m=\u001b[0m \u001b[0mself\u001b[0m\u001b[0;34m.\u001b[0m\u001b[0mget_indexer\u001b[0m\u001b[0;34m(\u001b[0m\u001b[0;34m[\u001b[0m\u001b[0mkey\u001b[0m\u001b[0;34m]\u001b[0m\u001b[0;34m,\u001b[0m \u001b[0mmethod\u001b[0m\u001b[0;34m=\u001b[0m\u001b[0mmethod\u001b[0m\u001b[0;34m,\u001b[0m \u001b[0mtolerance\u001b[0m\u001b[0;34m=\u001b[0m\u001b[0mtolerance\u001b[0m\u001b[0;34m)\u001b[0m\u001b[0;34m\u001b[0m\u001b[0;34m\u001b[0m\u001b[0m\n\u001b[1;32m   2650\u001b[0m         \u001b[0;32mif\u001b[0m \u001b[0mindexer\u001b[0m\u001b[0;34m.\u001b[0m\u001b[0mndim\u001b[0m \u001b[0;34m>\u001b[0m \u001b[0;36m1\u001b[0m \u001b[0;32mor\u001b[0m \u001b[0mindexer\u001b[0m\u001b[0;34m.\u001b[0m\u001b[0msize\u001b[0m \u001b[0;34m>\u001b[0m \u001b[0;36m1\u001b[0m\u001b[0;34m:\u001b[0m\u001b[0;34m\u001b[0m\u001b[0;34m\u001b[0m\u001b[0m\n",
      "\u001b[0;32mpandas/_libs/index.pyx\u001b[0m in \u001b[0;36mpandas._libs.index.IndexEngine.get_loc\u001b[0;34m()\u001b[0m\n",
      "\u001b[0;32mpandas/_libs/index.pyx\u001b[0m in \u001b[0;36mpandas._libs.index.IndexEngine.get_loc\u001b[0;34m()\u001b[0m\n",
      "\u001b[0;32mpandas/_libs/hashtable_class_helper.pxi\u001b[0m in \u001b[0;36mpandas._libs.hashtable.PyObjectHashTable.get_item\u001b[0;34m()\u001b[0m\n",
      "\u001b[0;32mpandas/_libs/hashtable_class_helper.pxi\u001b[0m in \u001b[0;36mpandas._libs.hashtable.PyObjectHashTable.get_item\u001b[0;34m()\u001b[0m\n",
      "\u001b[0;31mKeyError\u001b[0m: '#Bedrooms'"
     ]
    },
    {
     "data": {
      "image/png": "[encoded data removed]",
      "text/plain": [
       "<Figure size 1440x4320 with 4 Axes>"
      ]
     },
     "metadata": {
      "needs_background": "light"
     },
     "output_type": "display_data"
    }
   ],
   "source": [
    "# e) Create scatter plot to see the relation between numerical (not dummy) variables and target variable\n",
    "numericals = ['ConstructionYear'\n",
    "              ,'CapacityHouse_m3'\n",
    "              ,'LivingArea_m2'\n",
    "              ,'#Bedrooms'\n",
    "              ,'StatusScore'\n",
    "              ,'StatusRank'\n",
    "              ,'Urbanity_class'\n",
    "              ,'Avg_house_value_WOZ_1000euros'\n",
    "              ,'Num_benefit_total'\n",
    "              ,'Num_WWB'\n",
    "              ,'Num_AO'\n",
    "              ,'Num_WW'\n",
    "              ,'Num_AOW'\n",
    "              ,'Municipality_Distance_childDaycare_km'\n",
    "              ,'Municipality_Distance_largeSupermarket_km'\n",
    "              ,'Municipality_Distance_hospital_km'\n",
    "              ,'Municipality_Distance_trainstation_km'\n",
    "              ,'Avg_WOZ_m2'\n",
    "             ]  \n",
    "target = 'Price'\n",
    "\n",
    "\n",
    "plt.figure(figsize=(20,60))\n",
    "for i, column in enumerate(numericals):\n",
    "    plt.subplot(math.ceil(len(numericals)/2), 2, i+1)\n",
    "    x = inputdata[column]\n",
    "    y = inputdata[target]\n",
    "    plt.scatter(x, y, marker='o', cmap='blue')\n",
    "    plt.xlabel(column)\n",
    "    plt.ylabel('Price')"
   ]
  },
  {
   "cell_type": "code",
   "execution_count": null,
   "metadata": {},
   "outputs": [],
   "source": [
    "split_points = [100,200,300,400,500]\n",
    "split_len = 500\n",
    "print(len(inputdata))\n",
    "analysis_set = inputdata\n",
    "for i in range(0,5):\n",
    "    print(\"Group: {}-{}\".format(i*split_len, (i+1)*split_len))\n",
    "    print(\"size: {}\".format(len(analysis_set.loc[((analysis_set.Num_benefit_total >= i*split_len) \n",
    "                                                      & (analysis_set.Num_benefit_total < (i+1)*split_len)), target])))\n",
    "\n",
    "    print(\"avg all: {}\".format(np.mean(analysis_set.loc[((analysis_set.Num_benefit_total >= i*split_len) \n",
    "                                                      & (analysis_set.Num_benefit_total < (i+1)*split_len)), target])))\n",
    "    print(\"avg ex: {}\".format(np.mean(analysis_set.loc[(((analysis_set.Num_benefit_total-analysis_set.Num_AOW) >= i*split_len) \n",
    "                                                     & ((analysis_set.Num_benefit_total-analysis_set.Num_AOW) < (i+1)*split_len)), target])))\n",
    "#     print(\"avg Ex AOW: {}\".format())\n",
    "\n",
    "# analysis_set = inputdata.loc[inputdata.Urbanity_class>3,:]\n",
    "# for i in range(0,10):\n",
    "#     print(\"Group: {}-{}\".format(i*100, (i+1)*100))\n",
    "#     print(\"size: {}\".format(len(analysis_set.loc[((analysis_set.Num_benefit_total >= i*100) \n",
    "#                                                       & (analysis_set.Num_benefit_total < (i+1)*100)), target])))\n",
    "#     print(\"avg all: {}\".format(np.mean(analysis_set.loc[((analysis_set.Num_benefit_total >= i*100) \n",
    "#                                                       & (analysis_set.Num_benefit_total < (i+1)*100)), target])))\n",
    "#     print(\"avg ex: {}\".format(np.mean(analysis_set.loc[(((analysis_set.Num_benefit_total-analysis_set.Num_AOW) >= i*100) \n",
    "#                                                      & ((analysis_set.Num_benefit_total-analysis_set.Num_AOW) < (i+1)*100)), target])))\n"
   ]
  },
  {
   "cell_type": "code",
   "execution_count": null,
   "metadata": {},
   "outputs": [],
   "source": [
    "analysis_set = inputdata\n",
    "\n",
    "analysis_set['num_nearby'] = (analysis_set['Municipality_Distance_childDaycare_km'] < 1)*1.0 + (analysis_set['Municipality_Distance_largeSupermarket_km'] < 1) + (analysis_set['Municipality_Distance_hospital_km'] < 10) + (analysis_set['Municipality_Distance_trainstation_km'] < 10)"
   ]
  },
  {
   "cell_type": "code",
   "execution_count": null,
   "metadata": {},
   "outputs": [],
   "source": [
    "sns.barplot(inputdata['num_nearby'], inputdata[target], palette='Blues')"
   ]
  },
  {
   "cell_type": "code",
   "execution_count": 351,
   "metadata": {},
   "outputs": [
    {
     "ename": "KeyError",
     "evalue": "'num_nearby'",
     "output_type": "error",
     "traceback": [
      "\u001b[0;31m---------------------------------------------------------------------------\u001b[0m",
      "\u001b[0;31mKeyError\u001b[0m                                  Traceback (most recent call last)",
      "\u001b[0;32m/opt/anaconda3/envs/udacity3.8/lib/python3.8/site-packages/pandas/core/indexes/base.py\u001b[0m in \u001b[0;36mget_loc\u001b[0;34m(self, key, method, tolerance)\u001b[0m\n\u001b[1;32m   2645\u001b[0m             \u001b[0;32mtry\u001b[0m\u001b[0;34m:\u001b[0m\u001b[0;34m\u001b[0m\u001b[0;34m\u001b[0m\u001b[0m\n\u001b[0;32m-> 2646\u001b[0;31m                 \u001b[0;32mreturn\u001b[0m \u001b[0mself\u001b[0m\u001b[0;34m.\u001b[0m\u001b[0m_engine\u001b[0m\u001b[0;34m.\u001b[0m\u001b[0mget_loc\u001b[0m\u001b[0;34m(\u001b[0m\u001b[0mkey\u001b[0m\u001b[0;34m)\u001b[0m\u001b[0;34m\u001b[0m\u001b[0;34m\u001b[0m\u001b[0m\n\u001b[0m\u001b[1;32m   2647\u001b[0m             \u001b[0;32mexcept\u001b[0m \u001b[0mKeyError\u001b[0m\u001b[0;34m:\u001b[0m\u001b[0;34m\u001b[0m\u001b[0;34m\u001b[0m\u001b[0m\n",
      "\u001b[0;32mpandas/_libs/index.pyx\u001b[0m in \u001b[0;36mpandas._libs.index.IndexEngine.get_loc\u001b[0;34m()\u001b[0m\n",
      "\u001b[0;32mpandas/_libs/index.pyx\u001b[0m in \u001b[0;36mpandas._libs.index.IndexEngine.get_loc\u001b[0;34m()\u001b[0m\n",
      "\u001b[0;32mpandas/_libs/hashtable_class_helper.pxi\u001b[0m in \u001b[0;36mpandas._libs.hashtable.PyObjectHashTable.get_item\u001b[0;34m()\u001b[0m\n",
      "\u001b[0;32mpandas/_libs/hashtable_class_helper.pxi\u001b[0m in \u001b[0;36mpandas._libs.hashtable.PyObjectHashTable.get_item\u001b[0;34m()\u001b[0m\n",
      "\u001b[0;31mKeyError\u001b[0m: 'num_nearby'",
      "\nDuring handling of the above exception, another exception occurred:\n",
      "\u001b[0;31mKeyError\u001b[0m                                  Traceback (most recent call last)",
      "\u001b[0;32m<ipython-input-351-69441c224ca0>\u001b[0m in \u001b[0;36m<module>\u001b[0;34m\u001b[0m\n\u001b[0;32m----> 1\u001b[0;31m \u001b[0mx\u001b[0m \u001b[0;34m=\u001b[0m \u001b[0minputdata\u001b[0m\u001b[0;34m[\u001b[0m\u001b[0;34m'num_nearby'\u001b[0m\u001b[0;34m]\u001b[0m\u001b[0;34m\u001b[0m\u001b[0;34m\u001b[0m\u001b[0m\n\u001b[0m\u001b[1;32m      2\u001b[0m \u001b[0my\u001b[0m \u001b[0;34m=\u001b[0m \u001b[0minputdata\u001b[0m\u001b[0;34m[\u001b[0m\u001b[0mtarget\u001b[0m\u001b[0;34m]\u001b[0m\u001b[0;34m\u001b[0m\u001b[0;34m\u001b[0m\u001b[0m\n\u001b[1;32m      3\u001b[0m \u001b[0mplt\u001b[0m\u001b[0;34m.\u001b[0m\u001b[0mscatter\u001b[0m\u001b[0;34m(\u001b[0m\u001b[0mx\u001b[0m\u001b[0;34m,\u001b[0m \u001b[0my\u001b[0m\u001b[0;34m,\u001b[0m \u001b[0mmarker\u001b[0m\u001b[0;34m=\u001b[0m\u001b[0;34m'o'\u001b[0m\u001b[0;34m,\u001b[0m \u001b[0mcmap\u001b[0m\u001b[0;34m=\u001b[0m\u001b[0;34m'blue'\u001b[0m\u001b[0;34m)\u001b[0m\u001b[0;34m\u001b[0m\u001b[0;34m\u001b[0m\u001b[0m\n\u001b[1;32m      4\u001b[0m \u001b[0mplt\u001b[0m\u001b[0;34m.\u001b[0m\u001b[0mxlabel\u001b[0m\u001b[0;34m(\u001b[0m\u001b[0mcolumn\u001b[0m\u001b[0;34m)\u001b[0m\u001b[0;34m\u001b[0m\u001b[0;34m\u001b[0m\u001b[0m\n\u001b[1;32m      5\u001b[0m \u001b[0mplt\u001b[0m\u001b[0;34m.\u001b[0m\u001b[0mylabel\u001b[0m\u001b[0;34m(\u001b[0m\u001b[0;34m'Price'\u001b[0m\u001b[0;34m)\u001b[0m\u001b[0;34m\u001b[0m\u001b[0;34m\u001b[0m\u001b[0m\n",
      "\u001b[0;32m/opt/anaconda3/envs/udacity3.8/lib/python3.8/site-packages/pandas/core/frame.py\u001b[0m in \u001b[0;36m__getitem__\u001b[0;34m(self, key)\u001b[0m\n\u001b[1;32m   2798\u001b[0m             \u001b[0;32mif\u001b[0m \u001b[0mself\u001b[0m\u001b[0;34m.\u001b[0m\u001b[0mcolumns\u001b[0m\u001b[0;34m.\u001b[0m\u001b[0mnlevels\u001b[0m \u001b[0;34m>\u001b[0m \u001b[0;36m1\u001b[0m\u001b[0;34m:\u001b[0m\u001b[0;34m\u001b[0m\u001b[0;34m\u001b[0m\u001b[0m\n\u001b[1;32m   2799\u001b[0m                 \u001b[0;32mreturn\u001b[0m \u001b[0mself\u001b[0m\u001b[0;34m.\u001b[0m\u001b[0m_getitem_multilevel\u001b[0m\u001b[0;34m(\u001b[0m\u001b[0mkey\u001b[0m\u001b[0;34m)\u001b[0m\u001b[0;34m\u001b[0m\u001b[0;34m\u001b[0m\u001b[0m\n\u001b[0;32m-> 2800\u001b[0;31m             \u001b[0mindexer\u001b[0m \u001b[0;34m=\u001b[0m \u001b[0mself\u001b[0m\u001b[0;34m.\u001b[0m\u001b[0mcolumns\u001b[0m\u001b[0;34m.\u001b[0m\u001b[0mget_loc\u001b[0m\u001b[0;34m(\u001b[0m\u001b[0mkey\u001b[0m\u001b[0;34m)\u001b[0m\u001b[0;34m\u001b[0m\u001b[0;34m\u001b[0m\u001b[0m\n\u001b[0m\u001b[1;32m   2801\u001b[0m             \u001b[0;32mif\u001b[0m \u001b[0mis_integer\u001b[0m\u001b[0;34m(\u001b[0m\u001b[0mindexer\u001b[0m\u001b[0;34m)\u001b[0m\u001b[0;34m:\u001b[0m\u001b[0;34m\u001b[0m\u001b[0;34m\u001b[0m\u001b[0m\n\u001b[1;32m   2802\u001b[0m                 \u001b[0mindexer\u001b[0m \u001b[0;34m=\u001b[0m \u001b[0;34m[\u001b[0m\u001b[0mindexer\u001b[0m\u001b[0;34m]\u001b[0m\u001b[0;34m\u001b[0m\u001b[0;34m\u001b[0m\u001b[0m\n",
      "\u001b[0;32m/opt/anaconda3/envs/udacity3.8/lib/python3.8/site-packages/pandas/core/indexes/base.py\u001b[0m in \u001b[0;36mget_loc\u001b[0;34m(self, key, method, tolerance)\u001b[0m\n\u001b[1;32m   2646\u001b[0m                 \u001b[0;32mreturn\u001b[0m \u001b[0mself\u001b[0m\u001b[0;34m.\u001b[0m\u001b[0m_engine\u001b[0m\u001b[0;34m.\u001b[0m\u001b[0mget_loc\u001b[0m\u001b[0;34m(\u001b[0m\u001b[0mkey\u001b[0m\u001b[0;34m)\u001b[0m\u001b[0;34m\u001b[0m\u001b[0;34m\u001b[0m\u001b[0m\n\u001b[1;32m   2647\u001b[0m             \u001b[0;32mexcept\u001b[0m \u001b[0mKeyError\u001b[0m\u001b[0;34m:\u001b[0m\u001b[0;34m\u001b[0m\u001b[0;34m\u001b[0m\u001b[0m\n\u001b[0;32m-> 2648\u001b[0;31m                 \u001b[0;32mreturn\u001b[0m \u001b[0mself\u001b[0m\u001b[0;34m.\u001b[0m\u001b[0m_engine\u001b[0m\u001b[0;34m.\u001b[0m\u001b[0mget_loc\u001b[0m\u001b[0;34m(\u001b[0m\u001b[0mself\u001b[0m\u001b[0;34m.\u001b[0m\u001b[0m_maybe_cast_indexer\u001b[0m\u001b[0;34m(\u001b[0m\u001b[0mkey\u001b[0m\u001b[0;34m)\u001b[0m\u001b[0;34m)\u001b[0m\u001b[0;34m\u001b[0m\u001b[0;34m\u001b[0m\u001b[0m\n\u001b[0m\u001b[1;32m   2649\u001b[0m         \u001b[0mindexer\u001b[0m \u001b[0;34m=\u001b[0m \u001b[0mself\u001b[0m\u001b[0;34m.\u001b[0m\u001b[0mget_indexer\u001b[0m\u001b[0;34m(\u001b[0m\u001b[0;34m[\u001b[0m\u001b[0mkey\u001b[0m\u001b[0;34m]\u001b[0m\u001b[0;34m,\u001b[0m \u001b[0mmethod\u001b[0m\u001b[0;34m=\u001b[0m\u001b[0mmethod\u001b[0m\u001b[0;34m,\u001b[0m \u001b[0mtolerance\u001b[0m\u001b[0;34m=\u001b[0m\u001b[0mtolerance\u001b[0m\u001b[0;34m)\u001b[0m\u001b[0;34m\u001b[0m\u001b[0;34m\u001b[0m\u001b[0m\n\u001b[1;32m   2650\u001b[0m         \u001b[0;32mif\u001b[0m \u001b[0mindexer\u001b[0m\u001b[0;34m.\u001b[0m\u001b[0mndim\u001b[0m \u001b[0;34m>\u001b[0m \u001b[0;36m1\u001b[0m \u001b[0;32mor\u001b[0m \u001b[0mindexer\u001b[0m\u001b[0;34m.\u001b[0m\u001b[0msize\u001b[0m \u001b[0;34m>\u001b[0m \u001b[0;36m1\u001b[0m\u001b[0;34m:\u001b[0m\u001b[0;34m\u001b[0m\u001b[0;34m\u001b[0m\u001b[0m\n",
      "\u001b[0;32mpandas/_libs/index.pyx\u001b[0m in \u001b[0;36mpandas._libs.index.IndexEngine.get_loc\u001b[0;34m()\u001b[0m\n",
      "\u001b[0;32mpandas/_libs/index.pyx\u001b[0m in \u001b[0;36mpandas._libs.index.IndexEngine.get_loc\u001b[0;34m()\u001b[0m\n",
      "\u001b[0;32mpandas/_libs/hashtable_class_helper.pxi\u001b[0m in \u001b[0;36mpandas._libs.hashtable.PyObjectHashTable.get_item\u001b[0;34m()\u001b[0m\n",
      "\u001b[0;32mpandas/_libs/hashtable_class_helper.pxi\u001b[0m in \u001b[0;36mpandas._libs.hashtable.PyObjectHashTable.get_item\u001b[0;34m()\u001b[0m\n",
      "\u001b[0;31mKeyError\u001b[0m: 'num_nearby'"
     ]
    }
   ],
   "source": [
    "x = inputdata['num_nearby']\n",
    "y = inputdata[target]\n",
    "plt.scatter(x, y, marker='o', cmap='blue')\n",
    "plt.xlabel(column)\n",
    "plt.ylabel('Price')"
   ]
  },
  {
   "cell_type": "code",
   "execution_count": 352,
   "metadata": {
    "scrolled": true
   },
   "outputs": [
    {
     "data": {
      "image/png": "[encoded data removed]",
      "text/plain": [
       "<Figure size 1440x1440 with 7 Axes>"
      ]
     },
     "metadata": {
      "needs_background": "light"
     },
     "output_type": "display_data"
    }
   ],
   "source": [
    "# f) Create barplot to see the relation between the dummy-variables and target variable\n",
    "dummies = ['ResidentialNeighborhood'\n",
    "           ,'QuietRoad'\n",
    "           ,'Garden'\n",
    "           ,'FirePlace'\n",
    "           ,'Balcony'\n",
    "           ,'Attic'\n",
    "           ,'Back'\n",
    "          ]\n",
    "\n",
    "\n",
    "plt.figure(figsize=(20,20))\n",
    "for i, column in enumerate(dummies):\n",
    "    plt.subplot(math.ceil(len(dummies)/3), 3, i+1)\n",
    "    sns.barplot(inputdata[column], inputdata[target], palette='Blues')"
   ]
  },
  {
   "cell_type": "code",
   "execution_count": 353,
   "metadata": {
    "scrolled": true
   },
   "outputs": [
    {
     "data": {
      "text/plain": [
       "<matplotlib.axes._subplots.AxesSubplot at 0x7fb80ee3bc70>"
      ]
     },
     "execution_count": 353,
     "metadata": {},
     "output_type": "execute_result"
    },
    {
     "data": {
      "image/png": "[encoded data removed]",
      "text/plain": [
       "<Figure size 1080x504 with 1 Axes>"
      ]
     },
     "metadata": {
      "needs_background": "light"
     },
     "output_type": "display_data"
    },
    {
     "data": {
      "image/png": "[encoded data removed]",
      "text/plain": [
       "<Figure size 1080x504 with 1 Axes>"
      ]
     },
     "metadata": {
      "needs_background": "light"
     },
     "output_type": "display_data"
    },
    {
     "data": {
      "image/png": "[encoded data removed]",
      "text/plain": [
       "<Figure size 1080x504 with 1 Axes>"
      ]
     },
     "metadata": {
      "needs_background": "light"
     },
     "output_type": "display_data"
    },
    {
     "data": {
      "image/png": "[encoded data removed]",
      "text/plain": [
       "<Figure size 1080x504 with 1 Axes>"
      ]
     },
     "metadata": {
      "needs_background": "light"
     },
     "output_type": "display_data"
    },
    {
     "data": {
      "image/png": "[encoded data removed]",
      "text/plain": [
       "<Figure size 1080x504 with 1 Axes>"
      ]
     },
     "metadata": {
      "needs_background": "light"
     },
     "output_type": "display_data"
    },
    {
     "data": {
      "text/plain": [
       "<Figure size 1080x504 with 0 Axes>"
      ]
     },
     "metadata": {},
     "output_type": "display_data"
    },
    {
     "data": {
      "image/png": "[encoded data removed]",
      "text/plain": [
       "<Figure size 1080x504 with 1 Axes>"
      ]
     },
     "metadata": {
      "needs_background": "light"
     },
     "output_type": "display_data"
    }
   ],
   "source": [
    "# g) Create barplot to see the relation between the categorical variables and the target variable\n",
    "plt.figure(figsize=(15,7))\n",
    "sns.barplot(inputdata['Urbanity_class'],inputdata[target], palette='Blues')\n",
    "plt.figure(figsize=(15,7))\n",
    "sns.barplot(inputdata['HouseType'],inputdata[target], palette='Blues')\n",
    "plt.figure(figsize=(15,7))\n",
    "sns.barplot(inputdata['Province'],inputdata[target], palette='Blues')\n",
    "\n",
    "#   Here you can include additional variables to explore\n",
    "plt.figure(figsize=(15,7))\n",
    "sns.barplot(inputdata['HouseType'],inputdata[target],inputdata['QuietRoad'], palette='Blues')\n",
    "plt.figure(figsize=(15,7))\n",
    "sns.barplot(inputdata['Province'],inputdata[target],inputdata['QuietRoad'], palette='Blues')\n",
    "plt.figure(figsize=(15,7))\n",
    "plt.figure(figsize=(15,7))\n",
    "sns.barplot(inputdata['Urbanity_class'],inputdata[target],inputdata['QuietRoad'], palette='Blues')"
   ]
  },
  {
   "cell_type": "code",
   "execution_count": 354,
   "metadata": {
    "scrolled": true
   },
   "outputs": [
    {
     "name": "stdout",
     "output_type": "stream",
     "text": [
      "Price                                        1.00\n",
      "LivingArea_m2                                0.69\n",
      "CapacityHouse_m3                             0.67\n",
      "Num_Bedrooms                                 0.62\n",
      "Avg_house_value_WOZ_1000euros                0.51\n",
      "StatusScore                                  0.49\n",
      "Avg_WOZ_m2                                   0.32\n",
      "QuietRoad                                    0.26\n",
      "Garden_validation                            0.24\n",
      "Garden                                       0.23\n",
      "FirePlace                                    0.15\n",
      "Urbanity_class                               0.15\n",
      "Municipality_Distance_childDaycare_km        0.11\n",
      "Municipality_Distance_hospital_km            0.09\n",
      "Municipality_Distance_largeSupermarket_km    0.04\n",
      "Back                                         0.04\n",
      "Municipality_Distance_trainstation_km        0.03\n",
      "Attic                                        0.03\n",
      "ResidentialNeighborhood                      0.02\n",
      "ID                                          -0.01\n",
      "Balcony                                     -0.01\n",
      "ConstructionYear                            -0.05\n",
      "Num_AOW                                     -0.10\n",
      "Num_benefit_total                           -0.18\n",
      "Num_WW                                      -0.19\n",
      "Num_AO                                      -0.24\n",
      "Num_WWB                                     -0.26\n",
      "StatusRank                                  -0.49\n",
      "Name: Price, dtype: float64\n"
     ]
    }
   ],
   "source": [
    "# h) Print correlation with the target variable\n",
    "corrmat = inputdata.corr().round(2)\n",
    "print(corrmat[\"Price\"].sort_values(ascending=False))"
   ]
  },
  {
   "cell_type": "code",
   "execution_count": 355,
   "metadata": {
    "scrolled": false
   },
   "outputs": [
    {
     "ename": "KeyError",
     "evalue": "\"['#Bedrooms'] not in index\"",
     "output_type": "error",
     "traceback": [
      "\u001b[0;31m---------------------------------------------------------------------------\u001b[0m",
      "\u001b[0;31mKeyError\u001b[0m                                  Traceback (most recent call last)",
      "\u001b[0;32m<ipython-input-355-700ad4b364e1>\u001b[0m in \u001b[0;36m<module>\u001b[0;34m\u001b[0m\n\u001b[1;32m     29\u001b[0m           ]\n\u001b[1;32m     30\u001b[0m \u001b[0;34m\u001b[0m\u001b[0m\n\u001b[0;32m---> 31\u001b[0;31m \u001b[0mcorrelation\u001b[0m \u001b[0;34m=\u001b[0m \u001b[0minputdata\u001b[0m\u001b[0;34m[\u001b[0m\u001b[0mcolumns\u001b[0m\u001b[0;34m]\u001b[0m\u001b[0;34m\u001b[0m\u001b[0;34m\u001b[0m\u001b[0m\n\u001b[0m\u001b[1;32m     32\u001b[0m \u001b[0mcorrmat\u001b[0m \u001b[0;34m=\u001b[0m \u001b[0mcorrelation\u001b[0m\u001b[0;34m.\u001b[0m\u001b[0mcorr\u001b[0m\u001b[0;34m(\u001b[0m\u001b[0;34m)\u001b[0m\u001b[0;34m.\u001b[0m\u001b[0mround\u001b[0m\u001b[0;34m(\u001b[0m\u001b[0;36m2\u001b[0m\u001b[0;34m)\u001b[0m\u001b[0;34m\u001b[0m\u001b[0;34m\u001b[0m\u001b[0m\n\u001b[1;32m     33\u001b[0m \u001b[0mf\u001b[0m\u001b[0;34m,\u001b[0m \u001b[0max\u001b[0m \u001b[0;34m=\u001b[0m \u001b[0mplt\u001b[0m\u001b[0;34m.\u001b[0m\u001b[0msubplots\u001b[0m\u001b[0;34m(\u001b[0m\u001b[0mfigsize\u001b[0m\u001b[0;34m=\u001b[0m\u001b[0;34m(\u001b[0m\u001b[0;36m14\u001b[0m\u001b[0;34m,\u001b[0m \u001b[0;36m11\u001b[0m\u001b[0;34m)\u001b[0m\u001b[0;34m)\u001b[0m\u001b[0;34m\u001b[0m\u001b[0;34m\u001b[0m\u001b[0m\n",
      "\u001b[0;32m/opt/anaconda3/envs/udacity3.8/lib/python3.8/site-packages/pandas/core/frame.py\u001b[0m in \u001b[0;36m__getitem__\u001b[0;34m(self, key)\u001b[0m\n\u001b[1;32m   2804\u001b[0m             \u001b[0;32mif\u001b[0m \u001b[0mis_iterator\u001b[0m\u001b[0;34m(\u001b[0m\u001b[0mkey\u001b[0m\u001b[0;34m)\u001b[0m\u001b[0;34m:\u001b[0m\u001b[0;34m\u001b[0m\u001b[0;34m\u001b[0m\u001b[0m\n\u001b[1;32m   2805\u001b[0m                 \u001b[0mkey\u001b[0m \u001b[0;34m=\u001b[0m \u001b[0mlist\u001b[0m\u001b[0;34m(\u001b[0m\u001b[0mkey\u001b[0m\u001b[0;34m)\u001b[0m\u001b[0;34m\u001b[0m\u001b[0;34m\u001b[0m\u001b[0m\n\u001b[0;32m-> 2806\u001b[0;31m             \u001b[0mindexer\u001b[0m \u001b[0;34m=\u001b[0m \u001b[0mself\u001b[0m\u001b[0;34m.\u001b[0m\u001b[0mloc\u001b[0m\u001b[0;34m.\u001b[0m\u001b[0m_get_listlike_indexer\u001b[0m\u001b[0;34m(\u001b[0m\u001b[0mkey\u001b[0m\u001b[0;34m,\u001b[0m \u001b[0maxis\u001b[0m\u001b[0;34m=\u001b[0m\u001b[0;36m1\u001b[0m\u001b[0;34m,\u001b[0m \u001b[0mraise_missing\u001b[0m\u001b[0;34m=\u001b[0m\u001b[0;32mTrue\u001b[0m\u001b[0;34m)\u001b[0m\u001b[0;34m[\u001b[0m\u001b[0;36m1\u001b[0m\u001b[0;34m]\u001b[0m\u001b[0;34m\u001b[0m\u001b[0;34m\u001b[0m\u001b[0m\n\u001b[0m\u001b[1;32m   2807\u001b[0m \u001b[0;34m\u001b[0m\u001b[0m\n\u001b[1;32m   2808\u001b[0m         \u001b[0;31m# take() does not accept boolean indexers\u001b[0m\u001b[0;34m\u001b[0m\u001b[0;34m\u001b[0m\u001b[0;34m\u001b[0m\u001b[0m\n",
      "\u001b[0;32m/opt/anaconda3/envs/udacity3.8/lib/python3.8/site-packages/pandas/core/indexing.py\u001b[0m in \u001b[0;36m_get_listlike_indexer\u001b[0;34m(self, key, axis, raise_missing)\u001b[0m\n\u001b[1;32m   1550\u001b[0m             \u001b[0mkeyarr\u001b[0m\u001b[0;34m,\u001b[0m \u001b[0mindexer\u001b[0m\u001b[0;34m,\u001b[0m \u001b[0mnew_indexer\u001b[0m \u001b[0;34m=\u001b[0m \u001b[0max\u001b[0m\u001b[0;34m.\u001b[0m\u001b[0m_reindex_non_unique\u001b[0m\u001b[0;34m(\u001b[0m\u001b[0mkeyarr\u001b[0m\u001b[0;34m)\u001b[0m\u001b[0;34m\u001b[0m\u001b[0;34m\u001b[0m\u001b[0m\n\u001b[1;32m   1551\u001b[0m \u001b[0;34m\u001b[0m\u001b[0m\n\u001b[0;32m-> 1552\u001b[0;31m         self._validate_read_indexer(\n\u001b[0m\u001b[1;32m   1553\u001b[0m             \u001b[0mkeyarr\u001b[0m\u001b[0;34m,\u001b[0m \u001b[0mindexer\u001b[0m\u001b[0;34m,\u001b[0m \u001b[0mo\u001b[0m\u001b[0;34m.\u001b[0m\u001b[0m_get_axis_number\u001b[0m\u001b[0;34m(\u001b[0m\u001b[0maxis\u001b[0m\u001b[0;34m)\u001b[0m\u001b[0;34m,\u001b[0m \u001b[0mraise_missing\u001b[0m\u001b[0;34m=\u001b[0m\u001b[0mraise_missing\u001b[0m\u001b[0;34m\u001b[0m\u001b[0;34m\u001b[0m\u001b[0m\n\u001b[1;32m   1554\u001b[0m         )\n",
      "\u001b[0;32m/opt/anaconda3/envs/udacity3.8/lib/python3.8/site-packages/pandas/core/indexing.py\u001b[0m in \u001b[0;36m_validate_read_indexer\u001b[0;34m(self, key, indexer, axis, raise_missing)\u001b[0m\n\u001b[1;32m   1644\u001b[0m             \u001b[0;32mif\u001b[0m \u001b[0;32mnot\u001b[0m \u001b[0;34m(\u001b[0m\u001b[0mself\u001b[0m\u001b[0;34m.\u001b[0m\u001b[0mname\u001b[0m \u001b[0;34m==\u001b[0m \u001b[0;34m\"loc\"\u001b[0m \u001b[0;32mand\u001b[0m \u001b[0;32mnot\u001b[0m \u001b[0mraise_missing\u001b[0m\u001b[0;34m)\u001b[0m\u001b[0;34m:\u001b[0m\u001b[0;34m\u001b[0m\u001b[0;34m\u001b[0m\u001b[0m\n\u001b[1;32m   1645\u001b[0m                 \u001b[0mnot_found\u001b[0m \u001b[0;34m=\u001b[0m \u001b[0mlist\u001b[0m\u001b[0;34m(\u001b[0m\u001b[0mset\u001b[0m\u001b[0;34m(\u001b[0m\u001b[0mkey\u001b[0m\u001b[0;34m)\u001b[0m \u001b[0;34m-\u001b[0m \u001b[0mset\u001b[0m\u001b[0;34m(\u001b[0m\u001b[0max\u001b[0m\u001b[0;34m)\u001b[0m\u001b[0;34m)\u001b[0m\u001b[0;34m\u001b[0m\u001b[0;34m\u001b[0m\u001b[0m\n\u001b[0;32m-> 1646\u001b[0;31m                 \u001b[0;32mraise\u001b[0m \u001b[0mKeyError\u001b[0m\u001b[0;34m(\u001b[0m\u001b[0;34mf\"{not_found} not in index\"\u001b[0m\u001b[0;34m)\u001b[0m\u001b[0;34m\u001b[0m\u001b[0;34m\u001b[0m\u001b[0m\n\u001b[0m\u001b[1;32m   1647\u001b[0m \u001b[0;34m\u001b[0m\u001b[0m\n\u001b[1;32m   1648\u001b[0m             \u001b[0;31m# we skip the warning on Categorical/Interval\u001b[0m\u001b[0;34m\u001b[0m\u001b[0;34m\u001b[0m\u001b[0;34m\u001b[0m\u001b[0m\n",
      "\u001b[0;31mKeyError\u001b[0m: \"['#Bedrooms'] not in index\""
     ]
    }
   ],
   "source": [
    "#    Show correlation matrix to look for mutual correlations\n",
    "columns = ['Price'\n",
    "          # ,'ConstructionYear'\n",
    "           ,'CapacityHouse_m3'\n",
    "           ,'LivingArea_m2'\n",
    "          # ,'ResidentialNeighborhood'\n",
    "           ,'QuietRoad'\n",
    "           ,'Garden'\n",
    "           ,'FirePlace'\n",
    "           ,'Balcony'\n",
    "          # ,'Attic'\n",
    "          # ,'Back'\n",
    "           ,'#Bedrooms'\n",
    "           ,'StatusRank'\n",
    "           ,'StatusScore'\n",
    "           ,'Urbanity_class'\n",
    "           ,'Avg_house_value_WOZ_1000euros'\n",
    "          ,'Num_benefit_total'\n",
    "           ,'Num_WWB'\n",
    "           ,'Num_AO'\n",
    "           ,'Num_WW'\n",
    "          ,'Num_AOW'\n",
    "          ,'Municipality_Distance_hospital_km'\n",
    "           ,'Municipality_Distance_childDaycare_km'\n",
    "          ,'Municipality_Distance_largeSupermarket_km'\n",
    "          ,'Municipality_Distance_trainstation_km'\n",
    "           ,'Avg_WOZ_m2'\n",
    "#            ,'good_hood'\n",
    "          ]\n",
    "\n",
    "correlation = inputdata[columns]\n",
    "corrmat = correlation.corr().round(2)\n",
    "f, ax = plt.subplots(figsize=(14, 11))\n",
    "sns.heatmap(corrmat, square=True, annot=True)"
   ]
  },
  {
   "cell_type": "markdown",
   "metadata": {},
   "source": [
    "## Data preparation"
   ]
  },
  {
   "cell_type": "code",
   "execution_count": null,
   "metadata": {},
   "outputs": [],
   "source": [
    "print(inputdata.shape)"
   ]
  },
  {
   "cell_type": "code",
   "execution_count": 356,
   "metadata": {},
   "outputs": [],
   "source": [
    "# a) Drop rows with a price <= 2000, as these are probably for rent, and price >= 1.500.000, as these are outliers\n",
    "\n",
    "inputdata = inputdata[~(inputdata['Price']<=3000)]\n",
    "inputdata = inputdata[~(inputdata['Price']>=1500000)]"
   ]
  },
  {
   "cell_type": "code",
   "execution_count": 357,
   "metadata": {},
   "outputs": [],
   "source": [
    "# b) Feature engineering\n",
    "#    i. Add column Price per meter2\n",
    "# inputdata['Price_m2'] = inputdata['Price']/inputdata['LivingArea_m2']\n",
    "\n",
    "#    ii. Categorize the houses according to the construction year\n",
    "inputdata['Age_cat'] = inputdata['ConstructionYear']\n",
    "inputdata['Age_cat'][inputdata['ConstructionYear']<1940] = 'Before_war'\n",
    "inputdata['Age_cat'][(inputdata['ConstructionYear']>=1940) & (inputdata['ConstructionYear']<1990)] = 'Existing'\n",
    "inputdata['Age_cat'][inputdata['ConstructionYear']>=1990] = 'New_construction'"
   ]
  },
  {
   "cell_type": "code",
   "execution_count": 358,
   "metadata": {},
   "outputs": [],
   "source": [
    "#    iii. Create dummy-variable whether a house in the city- or countryside\n",
    "cityside = ['Noord Holland'\n",
    "            ,'Zuid Holland'\n",
    "            ,'Utrecht'\n",
    "           ]\n",
    "\n",
    "countryside = ['Zeeland'\n",
    "              ,'Fryslân'\n",
    "              ,'Groningen'\n",
    "              ,'Drenthe'\n",
    "              ]\n",
    "\n",
    "inputdata['CitySide'] = inputdata['Province'].isin(cityside).astype(np.int8)\n",
    "inputdata['CountrySide'] = inputdata['Province'].isin(countryside).astype(np.int8)"
   ]
  },
  {
   "cell_type": "code",
   "execution_count": 359,
   "metadata": {},
   "outputs": [],
   "source": [
    "inputdata['good_hood'] = (inputdata.Num_benefit_total-inputdata.Num_AOW) < 1000\n",
    "inputdata['enough_bedroom'] = inputdata['Num_Bedrooms']"
   ]
  },
  {
   "cell_type": "markdown",
   "metadata": {},
   "source": [
    "# Assignment 1: Linear Regression"
   ]
  },
  {
   "cell_type": "markdown",
   "metadata": {},
   "source": [
    "**Note on the difference between 'statsmodels and scikit'.**\n",
    "\n",
    "Linear regression is in its basic form the same in statsmodels and in scikit-learn. \n",
    "\n",
    "Scikit-learn uses a machine learning approach where the focus is on achieving the best prediction. Statsmodels has a more statistical approach where the focus is on understanding important variables, statistifical significance etc.\n",
    "\n",
    "As a consequence, the emphasis in the supporting features of statsmodels is in analysing the training data which includes hypothesis tests and goodness-of-fit measures, while the emphasis in the supporting infrastructure in scikit-learn is on model selection for out-of-sample prediction and therefore cross-validation on \"test data\".\n",
    "This points out the distinction, there is still quite a lot of overlap also in the usage. statsmodels also does prediction, and additionally forecasting in a time series context. But, when we want to do cross-validation for prediction in statsmodels it is currently still often easier to reuse the cross-validation setup of scikit-learn together with the estimation models of statsmodels.\n",
    "\n",
    "In order to understand the significance of the different features you will use statsmodels for this assignment."
   ]
  },
  {
   "cell_type": "code",
   "execution_count": 360,
   "metadata": {
    "scrolled": true
   },
   "outputs": [
    {
     "name": "stdout",
     "output_type": "stream",
     "text": [
      "                                           # NULLS   % NULLS\n",
      "ID                                               0  0.000000\n",
      "Price                                            0  0.000000\n",
      "Province                                         0  0.000000\n",
      "HouseType                                        0  0.000000\n",
      "ConstructionYear                                 0  0.000000\n",
      "CapacityHouse_m3                                 0  0.000000\n",
      "LivingArea_m2                                    0  0.000000\n",
      "ResidentialNeighborhood                          0  0.000000\n",
      "QuietRoad                                        0  0.000000\n",
      "Garden                                         949  0.259007\n",
      "FirePlace                                        0  0.000000\n",
      "Balcony                                          0  0.000000\n",
      "Attic                                            0  0.000000\n",
      "Back                                             0  0.000000\n",
      "Num_Bedrooms                                     0  0.000000\n",
      "StatusRank                                       0  0.000000\n",
      "StatusScore                                      0  0.000000\n",
      "Urbanity_class                                   0  0.000000\n",
      "Avg_house_value_WOZ_1000euros                    0  0.000000\n",
      "Num_benefit_total                                0  0.000000\n",
      "Num_WWB                                          0  0.000000\n",
      "Num_AO                                           0  0.000000\n",
      "Num_WW                                           0  0.000000\n",
      "Num_AOW                                          0  0.000000\n",
      "Municipality_Distance_hospital_km                0  0.000000\n",
      "Municipality_Distance_childDaycare_km            0  0.000000\n",
      "Municipality_Distance_largeSupermarket_km        0  0.000000\n",
      "Municipality_Distance_trainstation_km            0  0.000000\n",
      "Avg_WOZ_m2                                       0  0.000000\n",
      "Garden_validation                                0  0.000000\n",
      "Age_cat                                          0  0.000000\n",
      "CitySide                                         0  0.000000\n",
      "CountrySide                                      0  0.000000\n",
      "good_hood                                        0  0.000000\n",
      "enough_bedroom                                   0  0.000000\n"
     ]
    }
   ],
   "source": [
    "# Check missing values\n",
    "\n",
    "nulls = pd.DataFrame(inputdata.isnull().sum(), columns=['# NULLS'])        # Number of NULLS \n",
    "\n",
    "lst={}                                                                     # Number of NULLS as a percentage\n",
    "for col in inputdata.columns:                                       \n",
    "    lst[col]=np.sum(inputdata.loc[:,col].isnull())/len(inputdata.loc[:,col])\n",
    "percNulls = pd.DataFrame(pd.Series(lst), columns=['% NULLS'])\n",
    "\n",
    "print(pd.concat([nulls, percNulls], axis=1))"
   ]
  },
  {
   "cell_type": "markdown",
   "metadata": {},
   "source": [
    "What should we do with these missing values?"
   ]
  },
  {
   "cell_type": "code",
   "execution_count": 361,
   "metadata": {},
   "outputs": [],
   "source": [
    "firstdata= inputdata"
   ]
  },
  {
   "cell_type": "code",
   "execution_count": 362,
   "metadata": {},
   "outputs": [],
   "source": [
    "# Handle the missing values\n",
    "\n",
    "inputdata = firstdata"
   ]
  },
  {
   "cell_type": "code",
   "execution_count": 363,
   "metadata": {},
   "outputs": [],
   "source": [
    "# Dummmify the categorical variables\n",
    "# Save the categorical variable columns\n",
    "\n",
    "dataProv = inputdata['Province']\n",
    "dataHouse = inputdata['HouseType']\n",
    "dataAge = inputdata['Age_cat']\n",
    "dataUrban = inputdata['Urbanity_class']\n",
    "dataGarden = inputdata['Garden']\n",
    "\n",
    "#    Get/add dummies\n",
    "categoricals = ['Province'\n",
    "                ,'HouseType'\n",
    "                ,'Age_cat'\n",
    "                ,'Urbanity_class'\n",
    "                ,'Garden'\n",
    "               ]\n",
    "inputdata = pd.get_dummies(inputdata, columns=categoricals)\n",
    "\n",
    "#    Add the original categorical column\n",
    "inputdata['Province'] = dataProv\n",
    "inputdata['HouseType'] = dataHouse\n",
    "inputdata['Age_cat'] = dataAge\n",
    "inputdata['Urbanity_class'] = dataUrban\n",
    "inputdata['Garden'] = dataGarden"
   ]
  },
  {
   "cell_type": "code",
   "execution_count": 364,
   "metadata": {},
   "outputs": [
    {
     "data": {
      "text/html": [
       "<div>\n",
       "<style scoped>\n",
       "    .dataframe tbody tr th:only-of-type {\n",
       "        vertical-align: middle;\n",
       "    }\n",
       "\n",
       "    .dataframe tbody tr th {\n",
       "        vertical-align: top;\n",
       "    }\n",
       "\n",
       "    .dataframe thead th {\n",
       "        text-align: right;\n",
       "    }\n",
       "</style>\n",
       "<table border=\"1\" class=\"dataframe\">\n",
       "  <thead>\n",
       "    <tr style=\"text-align: right;\">\n",
       "      <th></th>\n",
       "      <th>ID</th>\n",
       "      <th>Price</th>\n",
       "      <th>ConstructionYear</th>\n",
       "      <th>CapacityHouse_m3</th>\n",
       "      <th>LivingArea_m2</th>\n",
       "      <th>ResidentialNeighborhood</th>\n",
       "      <th>QuietRoad</th>\n",
       "      <th>FirePlace</th>\n",
       "      <th>Balcony</th>\n",
       "      <th>Attic</th>\n",
       "      <th>...</th>\n",
       "      <th>Urbanity_class_3</th>\n",
       "      <th>Urbanity_class_4</th>\n",
       "      <th>Urbanity_class_5</th>\n",
       "      <th>Garden_0.0</th>\n",
       "      <th>Garden_1.0</th>\n",
       "      <th>Province</th>\n",
       "      <th>HouseType</th>\n",
       "      <th>Age_cat</th>\n",
       "      <th>Urbanity_class</th>\n",
       "      <th>Garden</th>\n",
       "    </tr>\n",
       "  </thead>\n",
       "  <tbody>\n",
       "    <tr>\n",
       "      <th>0</th>\n",
       "      <td>2684219</td>\n",
       "      <td>178082</td>\n",
       "      <td>2017</td>\n",
       "      <td>400.0</td>\n",
       "      <td>120.0</td>\n",
       "      <td>0</td>\n",
       "      <td>0</td>\n",
       "      <td>0</td>\n",
       "      <td>0</td>\n",
       "      <td>0</td>\n",
       "      <td>...</td>\n",
       "      <td>0</td>\n",
       "      <td>0</td>\n",
       "      <td>1</td>\n",
       "      <td>0</td>\n",
       "      <td>1</td>\n",
       "      <td>Zeeland</td>\n",
       "      <td>Semidetached</td>\n",
       "      <td>New_construction</td>\n",
       "      <td>5</td>\n",
       "      <td>1.0</td>\n",
       "    </tr>\n",
       "    <tr>\n",
       "      <th>1</th>\n",
       "      <td>2681978</td>\n",
       "      <td>241403</td>\n",
       "      <td>1930</td>\n",
       "      <td>280.0</td>\n",
       "      <td>71.0</td>\n",
       "      <td>0</td>\n",
       "      <td>0</td>\n",
       "      <td>0</td>\n",
       "      <td>0</td>\n",
       "      <td>0</td>\n",
       "      <td>...</td>\n",
       "      <td>0</td>\n",
       "      <td>0</td>\n",
       "      <td>1</td>\n",
       "      <td>1</td>\n",
       "      <td>0</td>\n",
       "      <td>FryslÃ¢n</td>\n",
       "      <td>Detached</td>\n",
       "      <td>Before_war</td>\n",
       "      <td>5</td>\n",
       "      <td>0.0</td>\n",
       "    </tr>\n",
       "    <tr>\n",
       "      <th>2</th>\n",
       "      <td>2684837</td>\n",
       "      <td>277145</td>\n",
       "      <td>1993</td>\n",
       "      <td>272.0</td>\n",
       "      <td>90.0</td>\n",
       "      <td>0</td>\n",
       "      <td>0</td>\n",
       "      <td>0</td>\n",
       "      <td>0</td>\n",
       "      <td>0</td>\n",
       "      <td>...</td>\n",
       "      <td>0</td>\n",
       "      <td>0</td>\n",
       "      <td>1</td>\n",
       "      <td>1</td>\n",
       "      <td>0</td>\n",
       "      <td>Overijssel</td>\n",
       "      <td>Detached</td>\n",
       "      <td>New_construction</td>\n",
       "      <td>5</td>\n",
       "      <td>0.0</td>\n",
       "    </tr>\n",
       "    <tr>\n",
       "      <th>3</th>\n",
       "      <td>2684859</td>\n",
       "      <td>112522</td>\n",
       "      <td>1920</td>\n",
       "      <td>238.0</td>\n",
       "      <td>102.0</td>\n",
       "      <td>0</td>\n",
       "      <td>0</td>\n",
       "      <td>0</td>\n",
       "      <td>0</td>\n",
       "      <td>0</td>\n",
       "      <td>...</td>\n",
       "      <td>0</td>\n",
       "      <td>0</td>\n",
       "      <td>1</td>\n",
       "      <td>1</td>\n",
       "      <td>0</td>\n",
       "      <td>Zeeland</td>\n",
       "      <td>Semidetached</td>\n",
       "      <td>Before_war</td>\n",
       "      <td>5</td>\n",
       "      <td>0.0</td>\n",
       "    </tr>\n",
       "    <tr>\n",
       "      <th>4</th>\n",
       "      <td>2675023</td>\n",
       "      <td>93746</td>\n",
       "      <td>1969</td>\n",
       "      <td>250.0</td>\n",
       "      <td>56.0</td>\n",
       "      <td>0</td>\n",
       "      <td>0</td>\n",
       "      <td>0</td>\n",
       "      <td>0</td>\n",
       "      <td>0</td>\n",
       "      <td>...</td>\n",
       "      <td>0</td>\n",
       "      <td>0</td>\n",
       "      <td>1</td>\n",
       "      <td>1</td>\n",
       "      <td>0</td>\n",
       "      <td>Drenthe</td>\n",
       "      <td>TownHouse</td>\n",
       "      <td>Existing</td>\n",
       "      <td>5</td>\n",
       "      <td>0.0</td>\n",
       "    </tr>\n",
       "  </tbody>\n",
       "</table>\n",
       "<p>5 rows × 63 columns</p>\n",
       "</div>"
      ],
      "text/plain": [
       "        ID   Price  ConstructionYear  CapacityHouse_m3  LivingArea_m2  \\\n",
       "0  2684219  178082              2017             400.0          120.0   \n",
       "1  2681978  241403              1930             280.0           71.0   \n",
       "2  2684837  277145              1993             272.0           90.0   \n",
       "3  2684859  112522              1920             238.0          102.0   \n",
       "4  2675023   93746              1969             250.0           56.0   \n",
       "\n",
       "   ResidentialNeighborhood  QuietRoad  FirePlace  Balcony  Attic  ...  \\\n",
       "0                        0          0          0        0      0  ...   \n",
       "1                        0          0          0        0      0  ...   \n",
       "2                        0          0          0        0      0  ...   \n",
       "3                        0          0          0        0      0  ...   \n",
       "4                        0          0          0        0      0  ...   \n",
       "\n",
       "   Urbanity_class_3  Urbanity_class_4  Urbanity_class_5  Garden_0.0  \\\n",
       "0                 0                 0                 1           0   \n",
       "1                 0                 0                 1           1   \n",
       "2                 0                 0                 1           1   \n",
       "3                 0                 0                 1           1   \n",
       "4                 0                 0                 1           1   \n",
       "\n",
       "   Garden_1.0    Province     HouseType           Age_cat  Urbanity_class  \\\n",
       "0           1     Zeeland  Semidetached  New_construction               5   \n",
       "1           0    FryslÃ¢n      Detached        Before_war               5   \n",
       "2           0  Overijssel      Detached  New_construction               5   \n",
       "3           0     Zeeland  Semidetached        Before_war               5   \n",
       "4           0     Drenthe     TownHouse          Existing               5   \n",
       "\n",
       "   Garden  \n",
       "0     1.0  \n",
       "1     0.0  \n",
       "2     0.0  \n",
       "3     0.0  \n",
       "4     0.0  \n",
       "\n",
       "[5 rows x 63 columns]"
      ]
     },
     "execution_count": 364,
     "metadata": {},
     "output_type": "execute_result"
    }
   ],
   "source": [
    "inputdata.head()"
   ]
  },
  {
   "cell_type": "code",
   "execution_count": 365,
   "metadata": {},
   "outputs": [
    {
     "data": {
      "text/plain": [
       "0       201\n",
       "1       134\n",
       "2       204\n",
       "3       160\n",
       "4       194\n",
       "       ... \n",
       "3662    159\n",
       "3663    183\n",
       "3664    192\n",
       "3665    223\n",
       "3666    217\n",
       "Name: Avg_house_value_WOZ_1000euros, Length: 3664, dtype: int64"
      ]
     },
     "execution_count": 365,
     "metadata": {},
     "output_type": "execute_result"
    }
   ],
   "source": [
    "inputdata['Avg_house_value_WOZ_1000euros']"
   ]
  },
  {
   "cell_type": "code",
   "execution_count": 366,
   "metadata": {},
   "outputs": [],
   "source": [
    "# split the data into a train and test set\n",
    "\n",
    "trainset, testset = train_test_split(inputdata, test_size=0.3, random_state=13)"
   ]
  },
  {
   "cell_type": "code",
   "execution_count": 367,
   "metadata": {
    "scrolled": true
   },
   "outputs": [
    {
     "data": {
      "text/plain": [
       "array(['ID', 'Price', 'ConstructionYear', 'CapacityHouse_m3',\n",
       "       'LivingArea_m2', 'ResidentialNeighborhood', 'QuietRoad',\n",
       "       'FirePlace', 'Balcony', 'Attic', 'Back', 'Num_Bedrooms',\n",
       "       'StatusRank', 'StatusScore', 'Avg_house_value_WOZ_1000euros',\n",
       "       'Num_benefit_total', 'Num_WWB', 'Num_AO', 'Num_WW', 'Num_AOW',\n",
       "       'Municipality_Distance_hospital_km',\n",
       "       'Municipality_Distance_childDaycare_km',\n",
       "       'Municipality_Distance_largeSupermarket_km',\n",
       "       'Municipality_Distance_trainstation_km', 'Avg_WOZ_m2',\n",
       "       'Garden_validation', 'CitySide', 'CountrySide', 'good_hood',\n",
       "       'enough_bedroom', 'Province_Drenthe', 'Province_Flevoland',\n",
       "       'Province_FryslÃ¢n', 'Province_Gelderland', 'Province_Groningen',\n",
       "       'Province_Limburg', 'Province_Noord Brabant',\n",
       "       'Province_Noord Holland', 'Province_Overijssel',\n",
       "       'Province_Utrecht', 'Province_Zeeland', 'Province_Zuid Holland',\n",
       "       'HouseType_Apartment', 'HouseType_CornerHouse',\n",
       "       'HouseType_Detached', 'HouseType_NotSpecified',\n",
       "       'HouseType_Semidetached', 'HouseType_TownHouse',\n",
       "       'Age_cat_Before_war', 'Age_cat_Existing',\n",
       "       'Age_cat_New_construction', 'Urbanity_class_1', 'Urbanity_class_2',\n",
       "       'Urbanity_class_3', 'Urbanity_class_4', 'Urbanity_class_5',\n",
       "       'Garden_0.0', 'Garden_1.0', 'Province', 'HouseType', 'Age_cat',\n",
       "       'Urbanity_class', 'Garden'], dtype=object)"
      ]
     },
     "execution_count": 367,
     "metadata": {},
     "output_type": "execute_result"
    }
   ],
   "source": [
    "trainset.columns.values"
   ]
  },
  {
   "cell_type": "code",
   "execution_count": 368,
   "metadata": {},
   "outputs": [],
   "source": [
    "# Design X and y\n",
    "# ADD INDEPENDENT VARIABLES TO X YOU THINK HAVE (HIGH) IMPACT ON PRICE\n",
    "\n",
    "X_variables = [\n",
    "#     'ConstructionYear'\n",
    "#                , 'CapacityHouse_m3'\n",
    "                'LivingArea_m2'\n",
    "#                , 'ResidentialNeighborhood'\n",
    "               , 'QuietRoad'\n",
    "#                 ,'garden'\n",
    "#                , 'FirePlace'\n",
    "#                , 'Balcony'\n",
    "#                , 'Attic'\n",
    "#                , 'Back'\n",
    "               , 'Num_Bedrooms'\n",
    "               , 'StatusRank'\n",
    "#                , 'StatusScore'\n",
    "               , 'Avg_house_value_WOZ_1000euros'\n",
    "#                , 'Num_benefit_total'\n",
    "#                , 'Num_WWB'\n",
    "#                , 'Num_AO'\n",
    "#                , 'Num_WW'\n",
    "#                , 'Num_AOW'\n",
    "#                , 'Municipality_Distance_hospital_km'\n",
    "#                , 'Municipality_Distance_childDaycare_km'\n",
    "#                , 'Municipality_Distance_largeSupermarket_km'\n",
    "#                , 'Municipality_Distance_trainstation_km'\n",
    "               , 'Avg_WOZ_m2'\n",
    "#                , 'Garden_validation'\n",
    "#                , 'Price_m2'\n",
    "               , 'CitySide'\n",
    "#                , 'CountrySide'\n",
    "#                , 'Province_Drenthe'\n",
    "#                , 'Province_Flevoland'\n",
    "#                , 'Province_FryslÃ¢n'\n",
    "#                , 'Province_Gelderland'\n",
    "#                , 'Province_Groningen'\n",
    "#                , 'Province_Limburg'\n",
    "#                , 'Province_Noord Brabant'\n",
    "#                , 'Province_Noord Holland'\n",
    "#                , 'Province_Overijssel'\n",
    "#                , 'Province_Utrecht'\n",
    "#                , 'Province_Zeeland'\n",
    "#                , 'Province_Zuid Holland'\n",
    "#                , 'HouseType_Apartment'\n",
    "#                , 'HouseType_CornerHouse'\n",
    "               , 'HouseType_Detached'\n",
    "#                , 'HouseType_NotSpecified'\n",
    "#                , 'HouseType_Semidetached'\n",
    "#                , 'HouseType_TownHouse'\n",
    "               , 'Age_cat_Before_war'\n",
    "#                , 'Age_cat_Existing'\n",
    "#                , 'Age_cat_New construction'\n",
    "#                , 'Urbanity_class_1'\n",
    "#                , 'Urbanity_class_2'\n",
    "#                , 'Urbanity_class_3'\n",
    "#                , 'Urbanity_class_4'\n",
    "               , 'Urbanity_class_5'\n",
    "#                , 'Garden_0.0'\n",
    "#                , 'Garden_1.0'\n",
    "#                , 'Province'\n",
    "#                , 'HouseType'\n",
    "#                , 'Age_cat'\n",
    "#                , 'Urbanity_class'\n",
    "#                , 'Garden'\n",
    "#                 , 'good_hood'\n",
    "#                 , 'enough_bedroom'\n",
    "#                 , 'num_nearby'\n",
    "              ]\n",
    "X_train = trainset.loc[:, X_variables]\n",
    "X_test = testset.loc[:, X_variables]\n",
    "\n",
    "y_train = trainset[target]\n",
    "y_test = testset[target]"
   ]
  },
  {
   "cell_type": "code",
   "execution_count": 369,
   "metadata": {},
   "outputs": [
    {
     "data": {
      "text/html": [
       "<div>\n",
       "<style scoped>\n",
       "    .dataframe tbody tr th:only-of-type {\n",
       "        vertical-align: middle;\n",
       "    }\n",
       "\n",
       "    .dataframe tbody tr th {\n",
       "        vertical-align: top;\n",
       "    }\n",
       "\n",
       "    .dataframe thead th {\n",
       "        text-align: right;\n",
       "    }\n",
       "</style>\n",
       "<table border=\"1\" class=\"dataframe\">\n",
       "  <thead>\n",
       "    <tr style=\"text-align: right;\">\n",
       "      <th></th>\n",
       "      <th>LivingArea_m2</th>\n",
       "      <th>QuietRoad</th>\n",
       "      <th>Num_Bedrooms</th>\n",
       "      <th>StatusRank</th>\n",
       "      <th>Avg_house_value_WOZ_1000euros</th>\n",
       "      <th>Avg_WOZ_m2</th>\n",
       "      <th>CitySide</th>\n",
       "      <th>HouseType_Detached</th>\n",
       "      <th>Age_cat_Before_war</th>\n",
       "      <th>Urbanity_class_5</th>\n",
       "    </tr>\n",
       "  </thead>\n",
       "  <tbody>\n",
       "    <tr>\n",
       "      <th>525</th>\n",
       "      <td>287.0</td>\n",
       "      <td>0</td>\n",
       "      <td>5</td>\n",
       "      <td>2262</td>\n",
       "      <td>178</td>\n",
       "      <td>1300.000000</td>\n",
       "      <td>0</td>\n",
       "      <td>0</td>\n",
       "      <td>0</td>\n",
       "      <td>1</td>\n",
       "    </tr>\n",
       "    <tr>\n",
       "      <th>978</th>\n",
       "      <td>115.0</td>\n",
       "      <td>0</td>\n",
       "      <td>4</td>\n",
       "      <td>3047</td>\n",
       "      <td>184</td>\n",
       "      <td>1600.000000</td>\n",
       "      <td>0</td>\n",
       "      <td>0</td>\n",
       "      <td>0</td>\n",
       "      <td>0</td>\n",
       "    </tr>\n",
       "    <tr>\n",
       "      <th>420</th>\n",
       "      <td>147.0</td>\n",
       "      <td>0</td>\n",
       "      <td>4</td>\n",
       "      <td>639</td>\n",
       "      <td>296</td>\n",
       "      <td>1550.000000</td>\n",
       "      <td>0</td>\n",
       "      <td>1</td>\n",
       "      <td>0</td>\n",
       "      <td>1</td>\n",
       "    </tr>\n",
       "    <tr>\n",
       "      <th>2495</th>\n",
       "      <td>84.0</td>\n",
       "      <td>0</td>\n",
       "      <td>3</td>\n",
       "      <td>3329</td>\n",
       "      <td>139</td>\n",
       "      <td>1781.250000</td>\n",
       "      <td>0</td>\n",
       "      <td>0</td>\n",
       "      <td>0</td>\n",
       "      <td>0</td>\n",
       "    </tr>\n",
       "    <tr>\n",
       "      <th>3294</th>\n",
       "      <td>64.7</td>\n",
       "      <td>0</td>\n",
       "      <td>2</td>\n",
       "      <td>2902</td>\n",
       "      <td>163</td>\n",
       "      <td>1614.635681</td>\n",
       "      <td>1</td>\n",
       "      <td>0</td>\n",
       "      <td>0</td>\n",
       "      <td>0</td>\n",
       "    </tr>\n",
       "  </tbody>\n",
       "</table>\n",
       "</div>"
      ],
      "text/plain": [
       "      LivingArea_m2  QuietRoad  Num_Bedrooms  StatusRank  \\\n",
       "525           287.0          0             5        2262   \n",
       "978           115.0          0             4        3047   \n",
       "420           147.0          0             4         639   \n",
       "2495           84.0          0             3        3329   \n",
       "3294           64.7          0             2        2902   \n",
       "\n",
       "      Avg_house_value_WOZ_1000euros   Avg_WOZ_m2  CitySide  \\\n",
       "525                             178  1300.000000         0   \n",
       "978                             184  1600.000000         0   \n",
       "420                             296  1550.000000         0   \n",
       "2495                            139  1781.250000         0   \n",
       "3294                            163  1614.635681         1   \n",
       "\n",
       "      HouseType_Detached  Age_cat_Before_war  Urbanity_class_5  \n",
       "525                    0                   0                 1  \n",
       "978                    0                   0                 0  \n",
       "420                    1                   0                 1  \n",
       "2495                   0                   0                 0  \n",
       "3294                   0                   0                 0  "
      ]
     },
     "execution_count": 369,
     "metadata": {},
     "output_type": "execute_result"
    }
   ],
   "source": [
    "X_train.head()"
   ]
  },
  {
   "cell_type": "code",
   "execution_count": 370,
   "metadata": {},
   "outputs": [
    {
     "data": {
      "text/plain": [
       "['LivingArea_m2',\n",
       " 'QuietRoad',\n",
       " 'Num_Bedrooms',\n",
       " 'StatusRank',\n",
       " 'Avg_house_value_WOZ_1000euros',\n",
       " 'Avg_WOZ_m2',\n",
       " 'CitySide',\n",
       " 'HouseType_Detached',\n",
       " 'Age_cat_Before_war',\n",
       " 'Urbanity_class_5']"
      ]
     },
     "execution_count": 370,
     "metadata": {},
     "output_type": "execute_result"
    }
   ],
   "source": [
    "X_variables"
   ]
  },
  {
   "cell_type": "markdown",
   "metadata": {},
   "source": [
    "Now let's actually train the model"
   ]
  },
  {
   "cell_type": "markdown",
   "metadata": {},
   "source": [
    "# Assignment 3: XGBoost"
   ]
  },
  {
   "cell_type": "code",
   "execution_count": 371,
   "metadata": {},
   "outputs": [
    {
     "name": "stdout",
     "output_type": "stream",
     "text": [
      "[11:59:26] WARNING: /Users/runner/miniforge3/conda-bld/xgboost_1598185652448/work/src/learner.cc:516: \n",
      "Parameters: { silent } might not be used.\n",
      "\n",
      "  This may not be accurate due to some parameters are only used in language bindings but\n",
      "  passed down to XGBoost core.  Or some parameters are not used but slip through this\n",
      "  verification. Please open an issue if you find above cases.\n",
      "\n",
      "\n"
     ]
    },
    {
     "data": {
      "text/plain": [
       "XGBRegressor(base_score=0.5, booster='gbtree', colsample_bylevel=1,\n",
       "             colsample_bynode=1, colsample_bytree=1, gamma=0, gpu_id=-1,\n",
       "             importance_type='gain', interaction_constraints='',\n",
       "             learning_rate=0.3, max_delta_step=0, max_depth=3,\n",
       "             min_child_weight=1, missing=nan, monotone_constraints='()',\n",
       "             n_estimators=80, n_jobs=0, num_parallel_tree=1, random_state=0,\n",
       "             reg_alpha=0, reg_lambda=1, scale_pos_weight=1, silent=1,\n",
       "             subsample=1, tree_method='exact', validate_parameters=1,\n",
       "             verbosity=None)"
      ]
     },
     "execution_count": 371,
     "metadata": {},
     "output_type": "execute_result"
    }
   ],
   "source": [
    "# a) Train the model \n",
    "\n",
    "# Think about the hyperparameters\n",
    "\n",
    "bst = xgb.XGBRegressor(max_depth=3\n",
    "                      ,min_child_weight=1\n",
    "                      ,gamma=0\n",
    "                      ,subsample=1\n",
    "                      ,colsample_bytree=1\n",
    "                      ,learning_rate=0.3\n",
    "                      ,silent=1\n",
    "                      ,n_estimators=80)\n",
    "\n",
    "\n",
    "bst.fit(X_train,y_train)"
   ]
  },
  {
   "cell_type": "code",
   "execution_count": 372,
   "metadata": {},
   "outputs": [
    {
     "data": {
      "text/plain": [
       "<matplotlib.axes._subplots.AxesSubplot at 0x7fb80ba191c0>"
      ]
     },
     "execution_count": 372,
     "metadata": {},
     "output_type": "execute_result"
    },
    {
     "data": {
      "image/png": "[encoded data removed]",
      "text/plain": [
       "<Figure size 1080x720 with 1 Axes>"
      ]
     },
     "metadata": {
      "needs_background": "light"
     },
     "output_type": "display_data"
    }
   ],
   "source": [
    "# b) Plot feature importances\n",
    "\n",
    "fig, ax = plt.subplots(figsize=(15,10))\n",
    "xgb.plot_importance(bst, importance_type='gain', show_values=False, ax=ax)"
   ]
  },
  {
   "cell_type": "code",
   "execution_count": 373,
   "metadata": {},
   "outputs": [
    {
     "data": {
      "text/html": [
       "<div>\n",
       "<style scoped>\n",
       "    .dataframe tbody tr th:only-of-type {\n",
       "        vertical-align: middle;\n",
       "    }\n",
       "\n",
       "    .dataframe tbody tr th {\n",
       "        vertical-align: top;\n",
       "    }\n",
       "\n",
       "    .dataframe thead th {\n",
       "        text-align: right;\n",
       "    }\n",
       "</style>\n",
       "<table border=\"1\" class=\"dataframe\">\n",
       "  <thead>\n",
       "    <tr style=\"text-align: right;\">\n",
       "      <th></th>\n",
       "      <th>LivingArea_m2</th>\n",
       "      <th>QuietRoad</th>\n",
       "      <th>Num_Bedrooms</th>\n",
       "      <th>StatusRank</th>\n",
       "      <th>Avg_house_value_WOZ_1000euros</th>\n",
       "      <th>Avg_WOZ_m2</th>\n",
       "      <th>CitySide</th>\n",
       "      <th>HouseType_Detached</th>\n",
       "      <th>Age_cat_Before_war</th>\n",
       "      <th>Urbanity_class_5</th>\n",
       "    </tr>\n",
       "  </thead>\n",
       "  <tbody>\n",
       "    <tr>\n",
       "      <th>2633</th>\n",
       "      <td>119.0</td>\n",
       "      <td>1</td>\n",
       "      <td>5</td>\n",
       "      <td>925</td>\n",
       "      <td>213</td>\n",
       "      <td>1700.000000</td>\n",
       "      <td>0</td>\n",
       "      <td>0</td>\n",
       "      <td>0</td>\n",
       "      <td>0</td>\n",
       "    </tr>\n",
       "    <tr>\n",
       "      <th>2976</th>\n",
       "      <td>143.0</td>\n",
       "      <td>1</td>\n",
       "      <td>7</td>\n",
       "      <td>1832</td>\n",
       "      <td>248</td>\n",
       "      <td>2552.439024</td>\n",
       "      <td>1</td>\n",
       "      <td>0</td>\n",
       "      <td>0</td>\n",
       "      <td>0</td>\n",
       "    </tr>\n",
       "    <tr>\n",
       "      <th>1796</th>\n",
       "      <td>122.0</td>\n",
       "      <td>0</td>\n",
       "      <td>4</td>\n",
       "      <td>740</td>\n",
       "      <td>244</td>\n",
       "      <td>1900.000000</td>\n",
       "      <td>1</td>\n",
       "      <td>0</td>\n",
       "      <td>0</td>\n",
       "      <td>0</td>\n",
       "    </tr>\n",
       "    <tr>\n",
       "      <th>1905</th>\n",
       "      <td>93.0</td>\n",
       "      <td>0</td>\n",
       "      <td>4</td>\n",
       "      <td>2163</td>\n",
       "      <td>239</td>\n",
       "      <td>2100.000000</td>\n",
       "      <td>1</td>\n",
       "      <td>0</td>\n",
       "      <td>0</td>\n",
       "      <td>0</td>\n",
       "    </tr>\n",
       "    <tr>\n",
       "      <th>1211</th>\n",
       "      <td>160.0</td>\n",
       "      <td>0</td>\n",
       "      <td>6</td>\n",
       "      <td>2245</td>\n",
       "      <td>226</td>\n",
       "      <td>1600.000000</td>\n",
       "      <td>0</td>\n",
       "      <td>0</td>\n",
       "      <td>0</td>\n",
       "      <td>0</td>\n",
       "    </tr>\n",
       "    <tr>\n",
       "      <th>...</th>\n",
       "      <td>...</td>\n",
       "      <td>...</td>\n",
       "      <td>...</td>\n",
       "      <td>...</td>\n",
       "      <td>...</td>\n",
       "      <td>...</td>\n",
       "      <td>...</td>\n",
       "      <td>...</td>\n",
       "      <td>...</td>\n",
       "      <td>...</td>\n",
       "    </tr>\n",
       "    <tr>\n",
       "      <th>2523</th>\n",
       "      <td>91.0</td>\n",
       "      <td>0</td>\n",
       "      <td>5</td>\n",
       "      <td>1143</td>\n",
       "      <td>205</td>\n",
       "      <td>1750.000000</td>\n",
       "      <td>1</td>\n",
       "      <td>0</td>\n",
       "      <td>0</td>\n",
       "      <td>0</td>\n",
       "    </tr>\n",
       "    <tr>\n",
       "      <th>867</th>\n",
       "      <td>72.0</td>\n",
       "      <td>0</td>\n",
       "      <td>3</td>\n",
       "      <td>598</td>\n",
       "      <td>239</td>\n",
       "      <td>1850.000000</td>\n",
       "      <td>0</td>\n",
       "      <td>0</td>\n",
       "      <td>0</td>\n",
       "      <td>0</td>\n",
       "    </tr>\n",
       "    <tr>\n",
       "      <th>865</th>\n",
       "      <td>77.0</td>\n",
       "      <td>0</td>\n",
       "      <td>3</td>\n",
       "      <td>1758</td>\n",
       "      <td>207</td>\n",
       "      <td>1650.000000</td>\n",
       "      <td>0</td>\n",
       "      <td>0</td>\n",
       "      <td>0</td>\n",
       "      <td>0</td>\n",
       "    </tr>\n",
       "    <tr>\n",
       "      <th>1757</th>\n",
       "      <td>100.0</td>\n",
       "      <td>0</td>\n",
       "      <td>4</td>\n",
       "      <td>299</td>\n",
       "      <td>199</td>\n",
       "      <td>1650.000000</td>\n",
       "      <td>1</td>\n",
       "      <td>0</td>\n",
       "      <td>0</td>\n",
       "      <td>0</td>\n",
       "    </tr>\n",
       "    <tr>\n",
       "      <th>1609</th>\n",
       "      <td>137.0</td>\n",
       "      <td>1</td>\n",
       "      <td>4</td>\n",
       "      <td>2826</td>\n",
       "      <td>197</td>\n",
       "      <td>1450.000000</td>\n",
       "      <td>0</td>\n",
       "      <td>0</td>\n",
       "      <td>0</td>\n",
       "      <td>0</td>\n",
       "    </tr>\n",
       "  </tbody>\n",
       "</table>\n",
       "<p>1100 rows × 10 columns</p>\n",
       "</div>"
      ],
      "text/plain": [
       "      LivingArea_m2  QuietRoad  Num_Bedrooms  StatusRank  \\\n",
       "2633          119.0          1             5         925   \n",
       "2976          143.0          1             7        1832   \n",
       "1796          122.0          0             4         740   \n",
       "1905           93.0          0             4        2163   \n",
       "1211          160.0          0             6        2245   \n",
       "...             ...        ...           ...         ...   \n",
       "2523           91.0          0             5        1143   \n",
       "867            72.0          0             3         598   \n",
       "865            77.0          0             3        1758   \n",
       "1757          100.0          0             4         299   \n",
       "1609          137.0          1             4        2826   \n",
       "\n",
       "      Avg_house_value_WOZ_1000euros   Avg_WOZ_m2  CitySide  \\\n",
       "2633                            213  1700.000000         0   \n",
       "2976                            248  2552.439024         1   \n",
       "1796                            244  1900.000000         1   \n",
       "1905                            239  2100.000000         1   \n",
       "1211                            226  1600.000000         0   \n",
       "...                             ...          ...       ...   \n",
       "2523                            205  1750.000000         1   \n",
       "867                             239  1850.000000         0   \n",
       "865                             207  1650.000000         0   \n",
       "1757                            199  1650.000000         1   \n",
       "1609                            197  1450.000000         0   \n",
       "\n",
       "      HouseType_Detached  Age_cat_Before_war  Urbanity_class_5  \n",
       "2633                   0                   0                 0  \n",
       "2976                   0                   0                 0  \n",
       "1796                   0                   0                 0  \n",
       "1905                   0                   0                 0  \n",
       "1211                   0                   0                 0  \n",
       "...                  ...                 ...               ...  \n",
       "2523                   0                   0                 0  \n",
       "867                    0                   0                 0  \n",
       "865                    0                   0                 0  \n",
       "1757                   0                   0                 0  \n",
       "1609                   0                   0                 0  \n",
       "\n",
       "[1100 rows x 10 columns]"
      ]
     },
     "execution_count": 373,
     "metadata": {},
     "output_type": "execute_result"
    }
   ],
   "source": [
    "X_test"
   ]
  },
  {
   "cell_type": "code",
   "execution_count": 374,
   "metadata": {},
   "outputs": [
    {
     "data": {
      "text/plain": [
       "<matplotlib.legend.Legend at 0x7fb80ded4970>"
      ]
     },
     "execution_count": 374,
     "metadata": {},
     "output_type": "execute_result"
    },
    {
     "data": {
      "image/png": "[encoded data removed]",
      "text/plain": [
       "<Figure size 540x540 with 1 Axes>"
      ]
     },
     "metadata": {
      "needs_background": "light"
     },
     "output_type": "display_data"
    }
   ],
   "source": [
    "# c) Make predictions for the test set\n",
    "\n",
    "y_test_pred = bst.predict(X_test)\n",
    "\n",
    "plt.figure(figsize=(7.5,7.5))\n",
    "plt.scatter(y_test, y_test_pred, alpha=0.4, marker='o')\n",
    "plt.plot((0, max(y_test)), (0, max(y_test)), 'r-', label='Real=Predicted')\n",
    "plt.xlabel('Real values')\n",
    "plt.ylabel('Predictions')\n",
    "plt.legend(loc='upper left')"
   ]
  },
  {
   "cell_type": "code",
   "execution_count": 375,
   "metadata": {
    "scrolled": true
   },
   "outputs": [
    {
     "name": "stdout",
     "output_type": "stream",
     "text": [
      "Bias: 84.0368057528409\n",
      "R-squared: 0.936\n",
      "Mean absolute error: 27235.28\n",
      "Mean absolute percentage error: 8.99\n",
      "Mean squared error: 1619249422.59\n"
     ]
    }
   ],
   "source": [
    "# d) Model evaluation for the test set\n",
    "print(\"Bias: {}\".format(np.mean(y_test_pred-y_test)))\n",
    "print(\"R-squared: %.3f\" % r2_score(y_test, y_test_pred))\n",
    "print(\"Mean absolute error: %.2f\" % mean_absolute_error(y_test, y_test_pred))\n",
    "print(\"Mean absolute percentage error: %.2f\" % mean_absolute_percentage_error(y_test, y_test_pred))\n",
    "print(\"Mean squared error: %.2f\" % mean_squared_error(y_test, y_test_pred))"
   ]
  },
  {
   "cell_type": "code",
   "execution_count": 376,
   "metadata": {},
   "outputs": [
    {
     "name": "stdout",
     "output_type": "stream",
     "text": [
      "Bias: -5.1147167664050315\n",
      "R-squared: 0.963\n",
      "Mean absolute error: 22467.21\n",
      "Mean absolute percentage error: 7.52\n",
      "Mean squared error: 991705957.99\n"
     ]
    }
   ],
   "source": [
    "y_train_pred = bst.predict(X_train)\n",
    "print(\"Bias: {}\".format(np.mean(y_train_pred-y_train)))\n",
    "print(\"R-squared: %.3f\" % r2_score(y_train, y_train_pred))\n",
    "print(\"Mean absolute error: %.2f\" % mean_absolute_error(y_train, y_train_pred))\n",
    "print(\"Mean absolute percentage error: %.2f\" % mean_absolute_percentage_error(y_train, y_train_pred))\n",
    "print(\"Mean squared error: %.2f\" % mean_squared_error(y_train, y_train_pred))"
   ]
  },
  {
   "cell_type": "markdown",
   "metadata": {},
   "source": [
    "# Pickle it all"
   ]
  },
  {
   "cell_type": "code",
   "execution_count": 377,
   "metadata": {},
   "outputs": [],
   "source": [
    "#Tip - Go through the theory to recall which model objects are relevant to save.\n",
    "#Use the pickle package documentation to save the model objects\n",
    "\n",
    "import pickle\n",
    "\n",
    "# Save the model\n",
    "pickle.dump(bst, open('../model.pickle', 'wb'))\n",
    "#Save the column names\n",
    "pickle.dump(X_train.columns, open('../columns.pickle', 'wb'))\n",
    "\n",
    "\n",
    "# # Save the imputation mean\n",
    "# pickle.dump(train_img.satisfaction_level.mean(), open('impute.pickle', 'wb'))\n",
    "# # Save the scaling parameters\n",
    "# pickle.dump(scaler, open('scaling.pickle', 'wb'))\n",
    "# # Save the salary encoder\n",
    "# pickle.dump(replace_map_salary, open('salary_encoding.pickle', 'wb'))\n"
   ]
  },
  {
   "cell_type": "markdown",
   "metadata": {},
   "source": [
    "# Assignment 4: Battle of the models"
   ]
  },
  {
   "cell_type": "markdown",
   "metadata": {},
   "source": [
    "Time to battle it out! Does linear regression or XGBoost perform better? Do you have an idea why? What features are important in the model?"
   ]
  },
  {
   "cell_type": "code",
   "execution_count": 378,
   "metadata": {},
   "outputs": [],
   "source": [
    "from sklearn.metrics import make_scorer\n",
    "from sklearn.model_selection import cross_validate\n",
    "\n",
    "def mape(y, y_pred):\n",
    "    mape = np.mean(np.abs((y-y_pred)/y))*100\n",
    "    return mape\n",
    "\n",
    "scoring = {'r2': 'r2', 'MAPE': make_scorer(mape)}"
   ]
  },
  {
   "cell_type": "code",
   "execution_count": 379,
   "metadata": {},
   "outputs": [
    {
     "name": "stdout",
     "output_type": "stream",
     "text": [
      "[11:59:42] WARNING: /Users/runner/miniforge3/conda-bld/xgboost_1598185652448/work/src/learner.cc:516: \n",
      "Parameters: { silent } might not be used.\n",
      "\n",
      "  This may not be accurate due to some parameters are only used in language bindings but\n",
      "  passed down to XGBoost core.  Or some parameters are not used but slip through this\n",
      "  verification. Please open an issue if you find above cases.\n",
      "\n",
      "\n",
      "[11:59:42] WARNING: /Users/runner/miniforge3/conda-bld/xgboost_1598185652448/work/src/learner.cc:516: \n",
      "Parameters: { silent } might not be used.\n",
      "\n",
      "  This may not be accurate due to some parameters are only used in language bindings but\n",
      "  passed down to XGBoost core.  Or some parameters are not used but slip through this\n",
      "  verification. Please open an issue if you find above cases.\n",
      "\n",
      "\n",
      "[11:59:42] WARNING: /Users/runner/miniforge3/conda-bld/xgboost_1598185652448/work/src/learner.cc:516: \n",
      "Parameters: { silent } might not be used.\n",
      "\n",
      "  This may not be accurate due to some parameters are only used in language bindings but\n",
      "  passed down to XGBoost core.  Or some parameters are not used but slip through this\n",
      "  verification. Please open an issue if you find above cases.\n",
      "\n",
      "\n",
      "[11:59:42] WARNING: /Users/runner/miniforge3/conda-bld/xgboost_1598185652448/work/src/learner.cc:516: \n",
      "Parameters: { silent } might not be used.\n",
      "\n",
      "  This may not be accurate due to some parameters are only used in language bindings but\n",
      "  passed down to XGBoost core.  Or some parameters are not used but slip through this\n",
      "  verification. Please open an issue if you find above cases.\n",
      "\n",
      "\n",
      "[11:59:42] WARNING: /Users/runner/miniforge3/conda-bld/xgboost_1598185652448/work/src/learner.cc:516: \n",
      "Parameters: { silent } might not be used.\n",
      "\n",
      "  This may not be accurate due to some parameters are only used in language bindings but\n",
      "  passed down to XGBoost core.  Or some parameters are not used but slip through this\n",
      "  verification. Please open an issue if you find above cases.\n",
      "\n",
      "\n",
      "[11:59:42] WARNING: /Users/runner/miniforge3/conda-bld/xgboost_1598185652448/work/src/learner.cc:516: \n",
      "Parameters: { silent } might not be used.\n",
      "\n",
      "  This may not be accurate due to some parameters are only used in language bindings but\n",
      "  passed down to XGBoost core.  Or some parameters are not used but slip through this\n",
      "  verification. Please open an issue if you find above cases.\n",
      "\n",
      "\n",
      "[11:59:42] WARNING: /Users/runner/miniforge3/conda-bld/xgboost_1598185652448/work/src/learner.cc:516: \n",
      "Parameters: { silent } might not be used.\n",
      "\n",
      "  This may not be accurate due to some parameters are only used in language bindings but\n",
      "  passed down to XGBoost core.  Or some parameters are not used but slip through this\n",
      "  verification. Please open an issue if you find above cases.\n",
      "\n",
      "\n",
      "[11:59:43] WARNING: /Users/runner/miniforge3/conda-bld/xgboost_1598185652448/work/src/learner.cc:516: \n",
      "Parameters: { silent } might not be used.\n",
      "\n",
      "  This may not be accurate due to some parameters are only used in language bindings but\n",
      "  passed down to XGBoost core.  Or some parameters are not used but slip through this\n",
      "  verification. Please open an issue if you find above cases.\n",
      "\n",
      "\n",
      "[11:59:43] WARNING: /Users/runner/miniforge3/conda-bld/xgboost_1598185652448/work/src/learner.cc:516: \n",
      "Parameters: { silent } might not be used.\n",
      "\n",
      "  This may not be accurate due to some parameters are only used in language bindings but\n",
      "  passed down to XGBoost core.  Or some parameters are not used but slip through this\n",
      "  verification. Please open an issue if you find above cases.\n",
      "\n",
      "\n",
      "[11:59:43] WARNING: /Users/runner/miniforge3/conda-bld/xgboost_1598185652448/work/src/learner.cc:516: \n",
      "Parameters: { silent } might not be used.\n",
      "\n",
      "  This may not be accurate due to some parameters are only used in language bindings but\n",
      "  passed down to XGBoost core.  Or some parameters are not used but slip through this\n",
      "  verification. Please open an issue if you find above cases.\n",
      "\n",
      "\n"
     ]
    }
   ],
   "source": [
    "scores = cross_validate(bst, inputdata[X_variables], inputdata['Price'], scoring=scoring, cv=10, return_estimator=True)"
   ]
  },
  {
   "cell_type": "code",
   "execution_count": 380,
   "metadata": {},
   "outputs": [
    {
     "data": {
      "text/plain": [
       "{'fit_time': array([0.09925199, 0.04661512, 0.05433393, 0.068887  , 0.04793501,\n",
       "        0.04738522, 0.07202697, 0.04995823, 0.04677701, 0.06265092]),\n",
       " 'score_time': array([0.00264192, 0.00257277, 0.003757  , 0.00271201, 0.00249004,\n",
       "        0.00256586, 0.00300908, 0.00275588, 0.00315094, 0.00326014]),\n",
       " 'estimator': (XGBRegressor(base_score=0.5, booster='gbtree', colsample_bylevel=1,\n",
       "               colsample_bynode=1, colsample_bytree=1, gamma=0, gpu_id=-1,\n",
       "               importance_type='gain', interaction_constraints='',\n",
       "               learning_rate=0.3, max_delta_step=0, max_depth=3,\n",
       "               min_child_weight=1, missing=nan, monotone_constraints='()',\n",
       "               n_estimators=80, n_jobs=0, num_parallel_tree=1, random_state=0,\n",
       "               reg_alpha=0, reg_lambda=1, scale_pos_weight=1, silent=1,\n",
       "               subsample=1, tree_method='exact', validate_parameters=1,\n",
       "               verbosity=None),\n",
       "  XGBRegressor(base_score=0.5, booster='gbtree', colsample_bylevel=1,\n",
       "               colsample_bynode=1, colsample_bytree=1, gamma=0, gpu_id=-1,\n",
       "               importance_type='gain', interaction_constraints='',\n",
       "               learning_rate=0.3, max_delta_step=0, max_depth=3,\n",
       "               min_child_weight=1, missing=nan, monotone_constraints='()',\n",
       "               n_estimators=80, n_jobs=0, num_parallel_tree=1, random_state=0,\n",
       "               reg_alpha=0, reg_lambda=1, scale_pos_weight=1, silent=1,\n",
       "               subsample=1, tree_method='exact', validate_parameters=1,\n",
       "               verbosity=None),\n",
       "  XGBRegressor(base_score=0.5, booster='gbtree', colsample_bylevel=1,\n",
       "               colsample_bynode=1, colsample_bytree=1, gamma=0, gpu_id=-1,\n",
       "               importance_type='gain', interaction_constraints='',\n",
       "               learning_rate=0.3, max_delta_step=0, max_depth=3,\n",
       "               min_child_weight=1, missing=nan, monotone_constraints='()',\n",
       "               n_estimators=80, n_jobs=0, num_parallel_tree=1, random_state=0,\n",
       "               reg_alpha=0, reg_lambda=1, scale_pos_weight=1, silent=1,\n",
       "               subsample=1, tree_method='exact', validate_parameters=1,\n",
       "               verbosity=None),\n",
       "  XGBRegressor(base_score=0.5, booster='gbtree', colsample_bylevel=1,\n",
       "               colsample_bynode=1, colsample_bytree=1, gamma=0, gpu_id=-1,\n",
       "               importance_type='gain', interaction_constraints='',\n",
       "               learning_rate=0.3, max_delta_step=0, max_depth=3,\n",
       "               min_child_weight=1, missing=nan, monotone_constraints='()',\n",
       "               n_estimators=80, n_jobs=0, num_parallel_tree=1, random_state=0,\n",
       "               reg_alpha=0, reg_lambda=1, scale_pos_weight=1, silent=1,\n",
       "               subsample=1, tree_method='exact', validate_parameters=1,\n",
       "               verbosity=None),\n",
       "  XGBRegressor(base_score=0.5, booster='gbtree', colsample_bylevel=1,\n",
       "               colsample_bynode=1, colsample_bytree=1, gamma=0, gpu_id=-1,\n",
       "               importance_type='gain', interaction_constraints='',\n",
       "               learning_rate=0.3, max_delta_step=0, max_depth=3,\n",
       "               min_child_weight=1, missing=nan, monotone_constraints='()',\n",
       "               n_estimators=80, n_jobs=0, num_parallel_tree=1, random_state=0,\n",
       "               reg_alpha=0, reg_lambda=1, scale_pos_weight=1, silent=1,\n",
       "               subsample=1, tree_method='exact', validate_parameters=1,\n",
       "               verbosity=None),\n",
       "  XGBRegressor(base_score=0.5, booster='gbtree', colsample_bylevel=1,\n",
       "               colsample_bynode=1, colsample_bytree=1, gamma=0, gpu_id=-1,\n",
       "               importance_type='gain', interaction_constraints='',\n",
       "               learning_rate=0.3, max_delta_step=0, max_depth=3,\n",
       "               min_child_weight=1, missing=nan, monotone_constraints='()',\n",
       "               n_estimators=80, n_jobs=0, num_parallel_tree=1, random_state=0,\n",
       "               reg_alpha=0, reg_lambda=1, scale_pos_weight=1, silent=1,\n",
       "               subsample=1, tree_method='exact', validate_parameters=1,\n",
       "               verbosity=None),\n",
       "  XGBRegressor(base_score=0.5, booster='gbtree', colsample_bylevel=1,\n",
       "               colsample_bynode=1, colsample_bytree=1, gamma=0, gpu_id=-1,\n",
       "               importance_type='gain', interaction_constraints='',\n",
       "               learning_rate=0.3, max_delta_step=0, max_depth=3,\n",
       "               min_child_weight=1, missing=nan, monotone_constraints='()',\n",
       "               n_estimators=80, n_jobs=0, num_parallel_tree=1, random_state=0,\n",
       "               reg_alpha=0, reg_lambda=1, scale_pos_weight=1, silent=1,\n",
       "               subsample=1, tree_method='exact', validate_parameters=1,\n",
       "               verbosity=None),\n",
       "  XGBRegressor(base_score=0.5, booster='gbtree', colsample_bylevel=1,\n",
       "               colsample_bynode=1, colsample_bytree=1, gamma=0, gpu_id=-1,\n",
       "               importance_type='gain', interaction_constraints='',\n",
       "               learning_rate=0.3, max_delta_step=0, max_depth=3,\n",
       "               min_child_weight=1, missing=nan, monotone_constraints='()',\n",
       "               n_estimators=80, n_jobs=0, num_parallel_tree=1, random_state=0,\n",
       "               reg_alpha=0, reg_lambda=1, scale_pos_weight=1, silent=1,\n",
       "               subsample=1, tree_method='exact', validate_parameters=1,\n",
       "               verbosity=None),\n",
       "  XGBRegressor(base_score=0.5, booster='gbtree', colsample_bylevel=1,\n",
       "               colsample_bynode=1, colsample_bytree=1, gamma=0, gpu_id=-1,\n",
       "               importance_type='gain', interaction_constraints='',\n",
       "               learning_rate=0.3, max_delta_step=0, max_depth=3,\n",
       "               min_child_weight=1, missing=nan, monotone_constraints='()',\n",
       "               n_estimators=80, n_jobs=0, num_parallel_tree=1, random_state=0,\n",
       "               reg_alpha=0, reg_lambda=1, scale_pos_weight=1, silent=1,\n",
       "               subsample=1, tree_method='exact', validate_parameters=1,\n",
       "               verbosity=None),\n",
       "  XGBRegressor(base_score=0.5, booster='gbtree', colsample_bylevel=1,\n",
       "               colsample_bynode=1, colsample_bytree=1, gamma=0, gpu_id=-1,\n",
       "               importance_type='gain', interaction_constraints='',\n",
       "               learning_rate=0.3, max_delta_step=0, max_depth=3,\n",
       "               min_child_weight=1, missing=nan, monotone_constraints='()',\n",
       "               n_estimators=80, n_jobs=0, num_parallel_tree=1, random_state=0,\n",
       "               reg_alpha=0, reg_lambda=1, scale_pos_weight=1, silent=1,\n",
       "               subsample=1, tree_method='exact', validate_parameters=1,\n",
       "               verbosity=None)),\n",
       " 'test_r2': array([0.85869522, 0.86360617, 0.93309482, 0.90436352, 0.93203052,\n",
       "        0.9000732 , 0.82313618, 0.82987539, 0.92636289, 0.72173346]),\n",
       " 'test_MAPE': array([10.03401453,  8.12813048,  8.11153351,  7.99810475,  8.49012728,\n",
       "         9.37739759, 14.81592341,  9.33112502, 13.79912429, 16.05607538])}"
      ]
     },
     "execution_count": 380,
     "metadata": {},
     "output_type": "execute_result"
    }
   ],
   "source": [
    "scores"
   ]
  },
  {
   "cell_type": "code",
   "execution_count": null,
   "metadata": {},
   "outputs": [],
   "source": []
  },
  {
   "cell_type": "markdown",
   "metadata": {},
   "source": [
    "# Test model preds"
   ]
  },
  {
   "cell_type": "code",
   "execution_count": 383,
   "metadata": {},
   "outputs": [],
   "source": [
    "house_info = {\"LivingArea_m2\":90,\n",
    "                \"QuietRoad\":1,\n",
    "                \"Num_Bedrooms\":3,\n",
    "                \"StatusRank\":2233,\n",
    "                \"Avg_house_value_WOZ_1000euros\":600,\n",
    "                \"Avg_WOZ_m2\":60,\n",
    "                \"CitySide\":1,\n",
    "                \"HouseType_Detached\":0,\n",
    "                \"Age_cat_Before_war\":0,\n",
    "                \"Urbanity_class_5\":1 \n",
    "}"
   ]
  },
  {
   "cell_type": "code",
   "execution_count": 384,
   "metadata": {},
   "outputs": [
    {
     "data": {
      "text/plain": [
       "int"
      ]
     },
     "execution_count": 384,
     "metadata": {},
     "output_type": "execute_result"
    }
   ],
   "source": [
    "type(house_info[\"LivingArea_m2\"])"
   ]
  },
  {
   "cell_type": "code",
   "execution_count": 385,
   "metadata": {},
   "outputs": [],
   "source": [
    "col_names = pickle.load(open('../columns.pickle', 'rb'))"
   ]
  },
  {
   "cell_type": "code",
   "execution_count": 386,
   "metadata": {},
   "outputs": [
    {
     "data": {
      "text/plain": [
       "Index(['LivingArea_m2', 'QuietRoad', 'Num_Bedrooms', 'StatusRank',\n",
       "       'Avg_house_value_WOZ_1000euros', 'Avg_WOZ_m2', 'CitySide',\n",
       "       'HouseType_Detached', 'Age_cat_Before_war', 'Urbanity_class_5'],\n",
       "      dtype='object')"
      ]
     },
     "execution_count": 386,
     "metadata": {},
     "output_type": "execute_result"
    }
   ],
   "source": [
    "col_names"
   ]
  },
  {
   "cell_type": "code",
   "execution_count": 387,
   "metadata": {},
   "outputs": [],
   "source": [
    "XgBoost = pickle.load(open('../model.pickle', 'rb'))"
   ]
  },
  {
   "cell_type": "code",
   "execution_count": 388,
   "metadata": {},
   "outputs": [],
   "source": [
    "cols_when_model_builds = XgBoost.get_booster().feature_names"
   ]
  },
  {
   "cell_type": "code",
   "execution_count": 389,
   "metadata": {},
   "outputs": [
    {
     "data": {
      "text/plain": [
       "['LivingArea_m2',\n",
       " 'QuietRoad',\n",
       " 'Num_Bedrooms',\n",
       " 'StatusRank',\n",
       " 'Avg_house_value_WOZ_1000euros',\n",
       " 'Avg_WOZ_m2',\n",
       " 'CitySide',\n",
       " 'HouseType_Detached',\n",
       " 'Age_cat_Before_war',\n",
       " 'Urbanity_class_5']"
      ]
     },
     "execution_count": 389,
     "metadata": {},
     "output_type": "execute_result"
    }
   ],
   "source": [
    "cols_when_model_builds"
   ]
  },
  {
   "cell_type": "code",
   "execution_count": 390,
   "metadata": {},
   "outputs": [],
   "source": [
    "dfu = pd.DataFrame(columns=cols_when_model_builds)"
   ]
  },
  {
   "cell_type": "code",
   "execution_count": 391,
   "metadata": {},
   "outputs": [
    {
     "data": {
      "text/html": [
       "<div>\n",
       "<style scoped>\n",
       "    .dataframe tbody tr th:only-of-type {\n",
       "        vertical-align: middle;\n",
       "    }\n",
       "\n",
       "    .dataframe tbody tr th {\n",
       "        vertical-align: top;\n",
       "    }\n",
       "\n",
       "    .dataframe thead th {\n",
       "        text-align: right;\n",
       "    }\n",
       "</style>\n",
       "<table border=\"1\" class=\"dataframe\">\n",
       "  <thead>\n",
       "    <tr style=\"text-align: right;\">\n",
       "      <th></th>\n",
       "      <th>LivingArea_m2</th>\n",
       "      <th>QuietRoad</th>\n",
       "      <th>Num_Bedrooms</th>\n",
       "      <th>StatusRank</th>\n",
       "      <th>Avg_house_value_WOZ_1000euros</th>\n",
       "      <th>Avg_WOZ_m2</th>\n",
       "      <th>CitySide</th>\n",
       "      <th>HouseType_Detached</th>\n",
       "      <th>Age_cat_Before_war</th>\n",
       "      <th>Urbanity_class_5</th>\n",
       "    </tr>\n",
       "  </thead>\n",
       "  <tbody>\n",
       "  </tbody>\n",
       "</table>\n",
       "</div>"
      ],
      "text/plain": [
       "Empty DataFrame\n",
       "Columns: [LivingArea_m2, QuietRoad, Num_Bedrooms, StatusRank, Avg_house_value_WOZ_1000euros, Avg_WOZ_m2, CitySide, HouseType_Detached, Age_cat_Before_war, Urbanity_class_5]\n",
       "Index: []"
      ]
     },
     "execution_count": 391,
     "metadata": {},
     "output_type": "execute_result"
    }
   ],
   "source": [
    "dfu"
   ]
  },
  {
   "cell_type": "code",
   "execution_count": 392,
   "metadata": {},
   "outputs": [],
   "source": [
    "dfu = dfu.append(house_info, ignore_index=True)"
   ]
  },
  {
   "cell_type": "code",
   "execution_count": 393,
   "metadata": {},
   "outputs": [
    {
     "data": {
      "text/html": [
       "<div>\n",
       "<style scoped>\n",
       "    .dataframe tbody tr th:only-of-type {\n",
       "        vertical-align: middle;\n",
       "    }\n",
       "\n",
       "    .dataframe tbody tr th {\n",
       "        vertical-align: top;\n",
       "    }\n",
       "\n",
       "    .dataframe thead th {\n",
       "        text-align: right;\n",
       "    }\n",
       "</style>\n",
       "<table border=\"1\" class=\"dataframe\">\n",
       "  <thead>\n",
       "    <tr style=\"text-align: right;\">\n",
       "      <th></th>\n",
       "      <th>LivingArea_m2</th>\n",
       "      <th>QuietRoad</th>\n",
       "      <th>Num_Bedrooms</th>\n",
       "      <th>StatusRank</th>\n",
       "      <th>Avg_house_value_WOZ_1000euros</th>\n",
       "      <th>Avg_WOZ_m2</th>\n",
       "      <th>CitySide</th>\n",
       "      <th>HouseType_Detached</th>\n",
       "      <th>Age_cat_Before_war</th>\n",
       "      <th>Urbanity_class_5</th>\n",
       "    </tr>\n",
       "  </thead>\n",
       "  <tbody>\n",
       "    <tr>\n",
       "      <th>0</th>\n",
       "      <td>90</td>\n",
       "      <td>1</td>\n",
       "      <td>3</td>\n",
       "      <td>2233</td>\n",
       "      <td>600</td>\n",
       "      <td>60</td>\n",
       "      <td>1</td>\n",
       "      <td>0</td>\n",
       "      <td>0</td>\n",
       "      <td>1</td>\n",
       "    </tr>\n",
       "  </tbody>\n",
       "</table>\n",
       "</div>"
      ],
      "text/plain": [
       "  LivingArea_m2 QuietRoad Num_Bedrooms StatusRank  \\\n",
       "0            90         1            3       2233   \n",
       "\n",
       "  Avg_house_value_WOZ_1000euros Avg_WOZ_m2 CitySide HouseType_Detached  \\\n",
       "0                           600         60        1                  0   \n",
       "\n",
       "  Age_cat_Before_war Urbanity_class_5  \n",
       "0                  0                1  "
      ]
     },
     "execution_count": 393,
     "metadata": {},
     "output_type": "execute_result"
    }
   ],
   "source": [
    "dfu"
   ]
  },
  {
   "cell_type": "code",
   "execution_count": 394,
   "metadata": {},
   "outputs": [
    {
     "data": {
      "text/plain": [
       "array([90, 1, 3, 2233, 600, 60, 1, 0, 0, 1], dtype=object)"
      ]
     },
     "execution_count": 394,
     "metadata": {},
     "output_type": "execute_result"
    }
   ],
   "source": [
    "dfu.values[0]"
   ]
  },
  {
   "cell_type": "code",
   "execution_count": 395,
   "metadata": {},
   "outputs": [
    {
     "data": {
      "text/plain": [
       "LivingArea_m2                    object\n",
       "QuietRoad                        object\n",
       "Num_Bedrooms                     object\n",
       "StatusRank                       object\n",
       "Avg_house_value_WOZ_1000euros    object\n",
       "Avg_WOZ_m2                       object\n",
       "CitySide                         object\n",
       "HouseType_Detached               object\n",
       "Age_cat_Before_war               object\n",
       "Urbanity_class_5                 object\n",
       "dtype: object"
      ]
     },
     "execution_count": 395,
     "metadata": {},
     "output_type": "execute_result"
    }
   ],
   "source": [
    "dfu.dtypes"
   ]
  },
  {
   "cell_type": "code",
   "execution_count": 396,
   "metadata": {},
   "outputs": [],
   "source": [
    "dfu = dfu.astype(int)"
   ]
  },
  {
   "cell_type": "code",
   "execution_count": 397,
   "metadata": {},
   "outputs": [
    {
     "data": {
      "text/plain": [
       "260126.89"
      ]
     },
     "execution_count": 397,
     "metadata": {},
     "output_type": "execute_result"
    }
   ],
   "source": [
    "XgBoost.predict(dfu)[0]"
   ]
  },
  {
   "cell_type": "code",
   "execution_count": 328,
   "metadata": {},
   "outputs": [
    {
     "ename": "ValueError",
     "evalue": "feature_names mismatch: ['LivingArea_m2', 'QuietRoad', '#Bedrooms', 'StatusRank', 'Avg_house_value_WOZ_1000euros', 'Avg_WOZ_m2', 'CitySide', 'HouseType_Detached', 'Age_cat_Before_war', 'Urbanity_class_5'] ['f0', 'f1', 'f2', 'f3', 'f4', 'f5', 'f6', 'f7', 'f8', 'f9']\nexpected LivingArea_m2, #Bedrooms, Age_cat_Before_war, Avg_WOZ_m2, HouseType_Detached, StatusRank, QuietRoad, CitySide, Avg_house_value_WOZ_1000euros, Urbanity_class_5 in input data\ntraining data did not have the following fields: f6, f8, f9, f1, f4, f3, f0, f2, f7, f5",
     "output_type": "error",
     "traceback": [
      "\u001b[0;31m---------------------------------------------------------------------------\u001b[0m",
      "\u001b[0;31mValueError\u001b[0m                                Traceback (most recent call last)",
      "\u001b[0;32m<ipython-input-328-bf54b319ef4a>\u001b[0m in \u001b[0;36m<module>\u001b[0;34m\u001b[0m\n\u001b[0;32m----> 1\u001b[0;31m \u001b[0mXgBoost\u001b[0m\u001b[0;34m.\u001b[0m\u001b[0mpredict\u001b[0m\u001b[0;34m(\u001b[0m\u001b[0mnp\u001b[0m\u001b[0;34m.\u001b[0m\u001b[0marray\u001b[0m\u001b[0;34m(\u001b[0m\u001b[0mdfu\u001b[0m\u001b[0;34m)\u001b[0m\u001b[0;34m.\u001b[0m\u001b[0mreshape\u001b[0m\u001b[0;34m(\u001b[0m\u001b[0;36m1\u001b[0m\u001b[0;34m,\u001b[0m \u001b[0;34m-\u001b[0m\u001b[0;36m1\u001b[0m\u001b[0;34m)\u001b[0m\u001b[0;34m)\u001b[0m\u001b[0;34m[\u001b[0m\u001b[0;36m0\u001b[0m\u001b[0;34m]\u001b[0m\u001b[0;34m\u001b[0m\u001b[0;34m\u001b[0m\u001b[0m\n\u001b[0m",
      "\u001b[0;32m/opt/anaconda3/envs/udacity3.8/lib/python3.8/site-packages/xgboost/sklearn.py\u001b[0m in \u001b[0;36mpredict\u001b[0;34m(self, data, output_margin, ntree_limit, validate_features, base_margin)\u001b[0m\n\u001b[1;32m    599\u001b[0m         \u001b[0;32mif\u001b[0m \u001b[0mntree_limit\u001b[0m \u001b[0;32mis\u001b[0m \u001b[0;32mNone\u001b[0m\u001b[0;34m:\u001b[0m\u001b[0;34m\u001b[0m\u001b[0;34m\u001b[0m\u001b[0m\n\u001b[1;32m    600\u001b[0m             \u001b[0mntree_limit\u001b[0m \u001b[0;34m=\u001b[0m \u001b[0mgetattr\u001b[0m\u001b[0;34m(\u001b[0m\u001b[0mself\u001b[0m\u001b[0;34m,\u001b[0m \u001b[0;34m\"best_ntree_limit\"\u001b[0m\u001b[0;34m,\u001b[0m \u001b[0;36m0\u001b[0m\u001b[0;34m)\u001b[0m\u001b[0;34m\u001b[0m\u001b[0;34m\u001b[0m\u001b[0m\n\u001b[0;32m--> 601\u001b[0;31m         return self.get_booster().predict(test_dmatrix,\n\u001b[0m\u001b[1;32m    602\u001b[0m                                           \u001b[0moutput_margin\u001b[0m\u001b[0;34m=\u001b[0m\u001b[0moutput_margin\u001b[0m\u001b[0;34m,\u001b[0m\u001b[0;34m\u001b[0m\u001b[0;34m\u001b[0m\u001b[0m\n\u001b[1;32m    603\u001b[0m                                           \u001b[0mntree_limit\u001b[0m\u001b[0;34m=\u001b[0m\u001b[0mntree_limit\u001b[0m\u001b[0;34m,\u001b[0m\u001b[0;34m\u001b[0m\u001b[0;34m\u001b[0m\u001b[0m\n",
      "\u001b[0;32m/opt/anaconda3/envs/udacity3.8/lib/python3.8/site-packages/xgboost/core.py\u001b[0m in \u001b[0;36mpredict\u001b[0;34m(self, data, output_margin, ntree_limit, pred_leaf, pred_contribs, approx_contribs, pred_interactions, validate_features, training)\u001b[0m\n\u001b[1;32m   1362\u001b[0m \u001b[0;34m\u001b[0m\u001b[0m\n\u001b[1;32m   1363\u001b[0m         \u001b[0;32mif\u001b[0m \u001b[0mvalidate_features\u001b[0m\u001b[0;34m:\u001b[0m\u001b[0;34m\u001b[0m\u001b[0;34m\u001b[0m\u001b[0m\n\u001b[0;32m-> 1364\u001b[0;31m             \u001b[0mself\u001b[0m\u001b[0;34m.\u001b[0m\u001b[0m_validate_features\u001b[0m\u001b[0;34m(\u001b[0m\u001b[0mdata\u001b[0m\u001b[0;34m)\u001b[0m\u001b[0;34m\u001b[0m\u001b[0;34m\u001b[0m\u001b[0m\n\u001b[0m\u001b[1;32m   1365\u001b[0m \u001b[0;34m\u001b[0m\u001b[0m\n\u001b[1;32m   1366\u001b[0m         \u001b[0mlength\u001b[0m \u001b[0;34m=\u001b[0m \u001b[0mc_bst_ulong\u001b[0m\u001b[0;34m(\u001b[0m\u001b[0;34m)\u001b[0m\u001b[0;34m\u001b[0m\u001b[0;34m\u001b[0m\u001b[0m\n",
      "\u001b[0;32m/opt/anaconda3/envs/udacity3.8/lib/python3.8/site-packages/xgboost/core.py\u001b[0m in \u001b[0;36m_validate_features\u001b[0;34m(self, data)\u001b[0m\n\u001b[1;32m   1933\u001b[0m                             ', '.join(str(s) for s in my_missing))\n\u001b[1;32m   1934\u001b[0m \u001b[0;34m\u001b[0m\u001b[0m\n\u001b[0;32m-> 1935\u001b[0;31m                 raise ValueError(msg.format(self.feature_names,\n\u001b[0m\u001b[1;32m   1936\u001b[0m                                             data.feature_names))\n\u001b[1;32m   1937\u001b[0m \u001b[0;34m\u001b[0m\u001b[0m\n",
      "\u001b[0;31mValueError\u001b[0m: feature_names mismatch: ['LivingArea_m2', 'QuietRoad', '#Bedrooms', 'StatusRank', 'Avg_house_value_WOZ_1000euros', 'Avg_WOZ_m2', 'CitySide', 'HouseType_Detached', 'Age_cat_Before_war', 'Urbanity_class_5'] ['f0', 'f1', 'f2', 'f3', 'f4', 'f5', 'f6', 'f7', 'f8', 'f9']\nexpected LivingArea_m2, #Bedrooms, Age_cat_Before_war, Avg_WOZ_m2, HouseType_Detached, StatusRank, QuietRoad, CitySide, Avg_house_value_WOZ_1000euros, Urbanity_class_5 in input data\ntraining data did not have the following fields: f6, f8, f9, f1, f4, f3, f0, f2, f7, f5"
     ]
    }
   ],
   "source": [
    "# XgBoost.predict(np.array(dfu).reshape(1, -1))[0]"
   ]
  },
  {
   "cell_type": "code",
   "execution_count": 269,
   "metadata": {},
   "outputs": [
    {
     "data": {
      "text/plain": [
       "array([90, 1, 3, 2233, 600, 60, 1, 0, 0, 1, 90, 1, 3, 2233, 600, 60, 1, 0,\n",
       "       0, 1], dtype=object)"
      ]
     },
     "execution_count": 269,
     "metadata": {},
     "output_type": "execute_result"
    }
   ],
   "source": [
    "np.array(dfu).reshape(1, -1)[0]"
   ]
  },
  {
   "cell_type": "code",
   "execution_count": 271,
   "metadata": {},
   "outputs": [],
   "source": [
    "X_train.columns = cols_when_model_builds"
   ]
  },
  {
   "cell_type": "code",
   "execution_count": null,
   "metadata": {},
   "outputs": [],
   "source": []
  }
 ],
 "metadata": {
  "kernelspec": {
   "display_name": "udacity3.8",
   "language": "python",
   "name": "udacity3.8"
  },
  "language_info": {
   "codemirror_mode": {
    "name": "ipython",
    "version": 3
   },
   "file_extension": ".py",
   "mimetype": "text/x-python",
   "name": "python",
   "nbconvert_exporter": "python",
   "pygments_lexer": "ipython3",
   "version": "3.8.3"
  }
 },
 "nbformat": 4,
 "nbformat_minor": 2
}
